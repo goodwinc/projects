{
 "cells": [
  {
   "cell_type": "code",
   "execution_count": 2,
   "metadata": {},
   "outputs": [
    {
     "name": "stderr",
     "output_type": "stream",
     "text": [
      "Using TensorFlow backend.\n"
     ]
    }
   ],
   "source": [
    "from keras.layers import Conv2D, UpSampling2D, InputLayer, Conv2DTranspose\n",
    "from keras.layers import Activation, Dense, Dropout, Flatten\n",
    "from keras.layers.normalization import BatchNormalization\n",
    "from keras.models import Sequential, load_model\n",
    "from keras.preprocessing.image import ImageDataGenerator, array_to_img, img_to_array, load_img\n",
    "from skimage.color import rgb2lab, lab2rgb, rgb2gray, xyz2lab\n",
    "from skimage.io import imsave\n",
    "import numpy as np\n",
    "import os\n",
    "import random\n",
    "import tensorflow as tf\n",
    "import matplotlib.pyplot as plt\n",
    "import pickle"
   ]
  },
  {
   "cell_type": "code",
   "execution_count": 3,
   "metadata": {},
   "outputs": [],
   "source": [
    "def show_gray_image(image):\n",
    "    plt.imshow(rgb2lab(image)[:,:,0]*255/100, cmap='gray')"
   ]
  },
  {
   "cell_type": "code",
   "execution_count": 4,
   "metadata": {},
   "outputs": [],
   "source": [
    "model = load_model('best_model_mountain.h5')"
   ]
  },
  {
   "cell_type": "code",
   "execution_count": 5,
   "metadata": {},
   "outputs": [],
   "source": [
    "try:\n",
    "    with open('X_mountain.pkl', 'rb') as handle:\n",
    "        X = pickle.load(handle)\n",
    "except:\n",
    "    path = './unzipped_images/mountain/'\n",
    "    X = []\n",
    "    for filename in os.listdir(path)[-500:]:\n",
    "        X.append(img_to_array(load_img(path + filename))/255)\n",
    "    X = np.array(X)\n",
    "    with open('X_mountain.pkl', 'wb') as handle:\n",
    "        pickle.dump(X, handle, protocol=pickle.HIGHEST_PROTOCOL)"
   ]
  },
  {
   "cell_type": "code",
   "execution_count": 6,
   "metadata": {},
   "outputs": [],
   "source": [
    "X_lab = rgb2lab(X)"
   ]
  },
  {
   "cell_type": "code",
   "execution_count": 7,
   "metadata": {},
   "outputs": [],
   "source": [
    "X_L = X_lab[:,:,:,0].reshape(X_lab[:,:,:,0].shape + (1,))\n",
    "X_ab = X_lab[:,:,:,1:]"
   ]
  },
  {
   "cell_type": "code",
   "execution_count": 8,
   "metadata": {},
   "outputs": [],
   "source": [
    "try:\n",
    "    with open('recolored_mountain.pkl', 'rb') as handle:\n",
    "        recolored_images = pickle.load(handle)\n",
    "    \n",
    "except:\n",
    "    predictions = model.predict(X_L/100, batch_size=8)\n",
    "    \n",
    "    recolored_images = []\n",
    "    for image in np.concatenate([X_L, predictions*128], axis=-1):\n",
    "        recolored_images.append(lab2rgb(image))\n",
    "    recolored_images = np.array(recolored_images)\n",
    "    with open('recolored_mountain.pkl', 'wb') as handle:\n",
    "        pickle.dump(recolored_images, handle, protocol=pickle.HIGHEST_PROTOCOL)"
   ]
  },
  {
   "cell_type": "code",
   "execution_count": null,
   "metadata": {},
   "outputs": [],
   "source": [
    "for i in range(10):\n",
    "    fig = plt.figure()\n",
    "    fig.add_subplot(131)\n",
    "    plt.gca().axis('off')\n",
    "    show_gray_image(X[i])\n",
    "    fig.add_subplot(132)\n",
    "    plt.gca().axis('off')\n",
    "    plt.imshow(recolored_images[i])\n",
    "    fig.add_subplot(133)\n",
    "    plt.gca().axis('off')\n",
    "    plt.imshow(X[i])\n",
    "    plt.show()"
   ]
  },
  {
   "cell_type": "code",
   "execution_count": null,
   "metadata": {},
   "outputs": [],
   "source": []
  }
 ],
 "metadata": {
  "kernelspec": {
   "display_name": "Python 3",
   "language": "python",
   "name": "python3"
  },
  "language_info": {
   "codemirror_mode": {
    "name": "ipython",
    "version": 3
   },
   "file_extension": ".py",
   "mimetype": "text/x-python",
   "name": "python",
   "nbconvert_exporter": "python",
   "pygments_lexer": "ipython3",
   "version": "3.6.5"
  }
 },
 "nbformat": 4,
 "nbformat_minor": 2
}
