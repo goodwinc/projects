{
 "cells": [
  {
   "cell_type": "code",
   "execution_count": 10,
   "metadata": {},
   "outputs": [],
   "source": [
    "import pandas as pd\n",
    "import numpy as np\n",
    "import matplotlib.pyplot as plt\n",
    "import seaborn as sns"
   ]
  },
  {
   "cell_type": "code",
   "execution_count": 11,
   "metadata": {},
   "outputs": [],
   "source": [
    "curr_app = pd.read_csv('application_train.csv')\n",
    "y = curr_app['TARGET']\n",
    "X = curr_app.iloc[:, :1]"
   ]
  },
  {
   "cell_type": "code",
   "execution_count": 12,
   "metadata": {},
   "outputs": [],
   "source": [
    "X_test = pd.read_csv('application_test.csv')\n",
    "X_test = X_test.iloc[:, :1]"
   ]
  },
  {
   "cell_type": "code",
   "execution_count": 13,
   "metadata": {},
   "outputs": [],
   "source": [
    "pos_df = pd.read_csv('POS_CASH_balance.csv')"
   ]
  },
  {
   "cell_type": "code",
   "execution_count": 14,
   "metadata": {},
   "outputs": [
    {
     "data": {
      "text/html": [
       "<div>\n",
       "<style scoped>\n",
       "    .dataframe tbody tr th:only-of-type {\n",
       "        vertical-align: middle;\n",
       "    }\n",
       "\n",
       "    .dataframe tbody tr th {\n",
       "        vertical-align: top;\n",
       "    }\n",
       "\n",
       "    .dataframe thead th {\n",
       "        text-align: right;\n",
       "    }\n",
       "</style>\n",
       "<table border=\"1\" class=\"dataframe\">\n",
       "  <thead>\n",
       "    <tr style=\"text-align: right;\">\n",
       "      <th></th>\n",
       "      <th>SK_ID_PREV</th>\n",
       "      <th>SK_ID_CURR</th>\n",
       "      <th>MONTHS_BALANCE</th>\n",
       "      <th>CNT_INSTALMENT</th>\n",
       "      <th>CNT_INSTALMENT_FUTURE</th>\n",
       "      <th>NAME_CONTRACT_STATUS</th>\n",
       "      <th>SK_DPD</th>\n",
       "      <th>SK_DPD_DEF</th>\n",
       "    </tr>\n",
       "  </thead>\n",
       "  <tbody>\n",
       "    <tr>\n",
       "      <th>0</th>\n",
       "      <td>1803195</td>\n",
       "      <td>182943</td>\n",
       "      <td>-31</td>\n",
       "      <td>48.0</td>\n",
       "      <td>45.0</td>\n",
       "      <td>Active</td>\n",
       "      <td>0</td>\n",
       "      <td>0</td>\n",
       "    </tr>\n",
       "    <tr>\n",
       "      <th>1</th>\n",
       "      <td>1715348</td>\n",
       "      <td>367990</td>\n",
       "      <td>-33</td>\n",
       "      <td>36.0</td>\n",
       "      <td>35.0</td>\n",
       "      <td>Active</td>\n",
       "      <td>0</td>\n",
       "      <td>0</td>\n",
       "    </tr>\n",
       "    <tr>\n",
       "      <th>2</th>\n",
       "      <td>1784872</td>\n",
       "      <td>397406</td>\n",
       "      <td>-32</td>\n",
       "      <td>12.0</td>\n",
       "      <td>9.0</td>\n",
       "      <td>Active</td>\n",
       "      <td>0</td>\n",
       "      <td>0</td>\n",
       "    </tr>\n",
       "    <tr>\n",
       "      <th>3</th>\n",
       "      <td>1903291</td>\n",
       "      <td>269225</td>\n",
       "      <td>-35</td>\n",
       "      <td>48.0</td>\n",
       "      <td>42.0</td>\n",
       "      <td>Active</td>\n",
       "      <td>0</td>\n",
       "      <td>0</td>\n",
       "    </tr>\n",
       "    <tr>\n",
       "      <th>4</th>\n",
       "      <td>2341044</td>\n",
       "      <td>334279</td>\n",
       "      <td>-35</td>\n",
       "      <td>36.0</td>\n",
       "      <td>35.0</td>\n",
       "      <td>Active</td>\n",
       "      <td>0</td>\n",
       "      <td>0</td>\n",
       "    </tr>\n",
       "  </tbody>\n",
       "</table>\n",
       "</div>"
      ],
      "text/plain": [
       "   SK_ID_PREV  SK_ID_CURR  MONTHS_BALANCE  CNT_INSTALMENT  \\\n",
       "0     1803195      182943             -31            48.0   \n",
       "1     1715348      367990             -33            36.0   \n",
       "2     1784872      397406             -32            12.0   \n",
       "3     1903291      269225             -35            48.0   \n",
       "4     2341044      334279             -35            36.0   \n",
       "\n",
       "   CNT_INSTALMENT_FUTURE NAME_CONTRACT_STATUS  SK_DPD  SK_DPD_DEF  \n",
       "0                   45.0               Active       0           0  \n",
       "1                   35.0               Active       0           0  \n",
       "2                    9.0               Active       0           0  \n",
       "3                   42.0               Active       0           0  \n",
       "4                   35.0               Active       0           0  "
      ]
     },
     "execution_count": 14,
     "metadata": {},
     "output_type": "execute_result"
    }
   ],
   "source": [
    "pos_df.head()"
   ]
  },
  {
   "cell_type": "code",
   "execution_count": 15,
   "metadata": {},
   "outputs": [
    {
     "data": {
      "text/plain": [
       "SK_ID_PREV                   0\n",
       "SK_ID_CURR                   0\n",
       "MONTHS_BALANCE               0\n",
       "CNT_INSTALMENT           26071\n",
       "CNT_INSTALMENT_FUTURE    26087\n",
       "NAME_CONTRACT_STATUS         0\n",
       "SK_DPD                       0\n",
       "SK_DPD_DEF                   0\n",
       "dtype: int64"
      ]
     },
     "execution_count": 15,
     "metadata": {},
     "output_type": "execute_result"
    }
   ],
   "source": [
    "pos_df.isnull().sum()"
   ]
  },
  {
   "cell_type": "code",
   "execution_count": 16,
   "metadata": {},
   "outputs": [],
   "source": [
    "pos_df = pd.get_dummies(pos_df)"
   ]
  },
  {
   "cell_type": "code",
   "execution_count": 17,
   "metadata": {},
   "outputs": [],
   "source": [
    "gb_sum_df = pos_df.iloc[:, 1:].groupby('SK_ID_CURR').sum().reset_index()"
   ]
  },
  {
   "cell_type": "code",
   "execution_count": 18,
   "metadata": {},
   "outputs": [],
   "source": [
    "gb_sum_df['COUNT'] = pos_df[['SK_ID_CURR']].groupby('SK_ID_CURR').size().reset_index().iloc[:, 1]"
   ]
  },
  {
   "cell_type": "code",
   "execution_count": 19,
   "metadata": {},
   "outputs": [],
   "source": [
    "gb_sum_df['CNT_INSTALMENT_MAX'] = pos_df[['CNT_INSTALMENT', 'SK_ID_CURR']].groupby('SK_ID_CURR').max().reset_index().iloc[:, 1]\n",
    "gb_sum_df['CNT_INSTALMENT_MIN'] = pos_df[['CNT_INSTALMENT', 'SK_ID_CURR']].groupby('SK_ID_CURR').min().reset_index().iloc[:, 1]\n",
    "gb_sum_df['CNT_INSTALMENT_AVG'] = pos_df[['CNT_INSTALMENT', 'SK_ID_CURR']].groupby('SK_ID_CURR').mean().reset_index().iloc[:, 1]"
   ]
  },
  {
   "cell_type": "code",
   "execution_count": 20,
   "metadata": {},
   "outputs": [],
   "source": [
    "gb_sum_df['INSTALMENTS_REMAINING'] = (pos_df[['SK_ID_CURR','SK_ID_PREV','CNT_INSTALMENT_FUTURE']]\n",
    "                                      .groupby(['SK_ID_CURR','SK_ID_PREV']).min()\n",
    "                                      .groupby('SK_ID_CURR').sum().reset_index().iloc[:,1])"
   ]
  },
  {
   "cell_type": "code",
   "execution_count": 21,
   "metadata": {},
   "outputs": [],
   "source": [
    "gb_sum_df['MONTHS_BALANCE_AVG'] = (pos_df[['SK_ID_CURR','MONTHS_BALANCE']]\n",
    " .groupby(['SK_ID_CURR']).mean().reset_index().iloc[:,1]\n",
    ")\n",
    "\n",
    "gb_sum_df['MONTHS_BALANCE_MAX'] = (pos_df[['SK_ID_CURR','MONTHS_BALANCE']]\n",
    " .groupby(['SK_ID_CURR']).max().reset_index().iloc[:,1]\n",
    ")\n",
    "gb_sum_df['MONTHS_BALANCE_MIN'] = (pos_df[['SK_ID_CURR','MONTHS_BALANCE']]\n",
    " .groupby(['SK_ID_CURR']).min().reset_index().iloc[:,1]\n",
    ")"
   ]
  },
  {
   "cell_type": "code",
   "execution_count": 22,
   "metadata": {},
   "outputs": [],
   "source": [
    "gb_sum_df['SK_DPD_AVG'] = (pos_df[['SK_ID_CURR','SK_DPD']]\n",
    " .groupby(['SK_ID_CURR']).mean().reset_index().iloc[:,1]\n",
    ")\n",
    "\n",
    "gb_sum_df['SK_DPD_DEF_AVG'] = (pos_df[['SK_ID_CURR','SK_DPD_DEF']]\n",
    " .groupby(['SK_ID_CURR']).mean().reset_index().iloc[:,1]\n",
    ")"
   ]
  },
  {
   "cell_type": "code",
   "execution_count": 23,
   "metadata": {},
   "outputs": [],
   "source": [
    "gb_sum_df['CNT_INSTALMENT_NA'] = pd.concat([pos_df[['CNT_INSTALMENT']].isnull(), pos_df[['SK_ID_CURR']]], axis=1).groupby('SK_ID_CURR').sum().reset_index().iloc[:, 1]\n",
    "gb_sum_df['CNT_INSTALMENT_FUTURE_NA'] = pd.concat([pos_df[['CNT_INSTALMENT_FUTURE']].isnull(), pos_df[['SK_ID_CURR']]], axis=1).groupby('SK_ID_CURR').sum().reset_index().iloc[:, 1]"
   ]
  },
  {
   "cell_type": "code",
   "execution_count": 24,
   "metadata": {},
   "outputs": [],
   "source": [
    "X = X.merge(gb_sum_df, on='SK_ID_CURR', how='left')\n",
    "X_test = X_test.merge(gb_sum_df, on='SK_ID_CURR', how='left')"
   ]
  },
  {
   "cell_type": "code",
   "execution_count": 25,
   "metadata": {},
   "outputs": [],
   "source": [
    "corrs = pd.Series([y.corr(X[col]) for col in X.columns[-gb_sum_df.shape[1]+1:]], index=gb_sum_df.columns[1:]).sort_values()"
   ]
  },
  {
   "cell_type": "code",
   "execution_count": 26,
   "metadata": {},
   "outputs": [
    {
     "data": {
      "text/plain": [
       "MONTHS_BALANCE_MIN                            0.055307\n",
       "MONTHS_BALANCE                                0.040570\n",
       "NAME_CONTRACT_STATUS_Active                   0.035866\n",
       "COUNT                                         0.035632\n",
       "MONTHS_BALANCE_AVG                            0.034543\n",
       "CNT_INSTALMENT_MIN                            0.019840\n",
       "NAME_CONTRACT_STATUS_Completed                0.019547\n",
       "CNT_INSTALMENT_AVG                            0.018066\n",
       "CNT_INSTALMENT                                0.014670\n",
       "CNT_INSTALMENT_MAX                            0.013296\n",
       "CNT_INSTALMENT_FUTURE_NA                      0.010643\n",
       "CNT_INSTALMENT_NA                             0.010374\n",
       "INSTALMENTS_REMAINING                         0.009569\n",
       "NAME_CONTRACT_STATUS_Returned to the store    0.009103\n",
       "SK_DPD_DEF_AVG                                0.006496\n",
       "CNT_INSTALMENT_FUTURE                         0.005881\n",
       "NAME_CONTRACT_STATUS_Amortized debt           0.005526\n",
       "SK_DPD_AVG                                    0.005436\n",
       "SK_DPD_DEF                                    0.004950\n",
       "SK_DPD                                        0.004740\n",
       "NAME_CONTRACT_STATUS_Signed                   0.004421\n",
       "MONTHS_BALANCE_MAX                            0.004321\n",
       "NAME_CONTRACT_STATUS_Demand                   0.003753\n",
       "NAME_CONTRACT_STATUS_Approved                 0.002044\n",
       "NAME_CONTRACT_STATUS_Canceled                 0.002001\n",
       "NAME_CONTRACT_STATUS_XNA                      0.000784\n",
       "dtype: float64"
      ]
     },
     "execution_count": 26,
     "metadata": {},
     "output_type": "execute_result"
    }
   ],
   "source": [
    "corrs = abs(corrs).sort_values(ascending=False)\n",
    "corrs"
   ]
  },
  {
   "cell_type": "code",
   "execution_count": 27,
   "metadata": {},
   "outputs": [],
   "source": [
    "X[corrs.index].to_pickle('features_pos.pkl')\n",
    "X_test[corrs.index].to_pickle('features_pos_test.pkl')"
   ]
  },
  {
   "cell_type": "code",
   "execution_count": null,
   "metadata": {},
   "outputs": [],
   "source": []
  }
 ],
 "metadata": {
  "kernelspec": {
   "display_name": "Python 3",
   "language": "python",
   "name": "python3"
  },
  "language_info": {
   "codemirror_mode": {
    "name": "ipython",
    "version": 3
   },
   "file_extension": ".py",
   "mimetype": "text/x-python",
   "name": "python",
   "nbconvert_exporter": "python",
   "pygments_lexer": "ipython3",
   "version": "3.7.0"
  }
 },
 "nbformat": 4,
 "nbformat_minor": 2
}
