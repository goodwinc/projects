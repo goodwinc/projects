{
 "cells": [
  {
   "cell_type": "code",
   "execution_count": 8,
   "metadata": {},
   "outputs": [],
   "source": [
    "import pandas as pd\n",
    "import numpy as np\n",
    "import matplotlib.pyplot as plt\n",
    "import seaborn as sns\n",
    "\n",
    "from sklearn.model_selection import train_test_split, KFold, cross_val_score, StratifiedKFold\n",
    "from sklearn.metrics import precision_score, recall_score, accuracy_score, roc_auc_score, confusion_matrix, roc_curve, auc\n",
    "from sklearn.preprocessing import StandardScaler, Imputer\n",
    "from sklearn.pipeline import make_pipeline\n",
    "from xgboost import XGBClassifier, plot_importance"
   ]
  },
  {
   "cell_type": "code",
   "execution_count": 9,
   "metadata": {},
   "outputs": [],
   "source": [
    "df_train = pd.read_csv('application_train.csv')"
   ]
  },
  {
   "cell_type": "code",
   "execution_count": 10,
   "metadata": {
    "scrolled": true
   },
   "outputs": [
    {
     "data": {
      "text/html": [
       "<div>\n",
       "<style scoped>\n",
       "    .dataframe tbody tr th:only-of-type {\n",
       "        vertical-align: middle;\n",
       "    }\n",
       "\n",
       "    .dataframe tbody tr th {\n",
       "        vertical-align: top;\n",
       "    }\n",
       "\n",
       "    .dataframe thead th {\n",
       "        text-align: right;\n",
       "    }\n",
       "</style>\n",
       "<table border=\"1\" class=\"dataframe\">\n",
       "  <thead>\n",
       "    <tr style=\"text-align: right;\">\n",
       "      <th></th>\n",
       "      <th>SK_ID_CURR</th>\n",
       "      <th>TARGET</th>\n",
       "      <th>NAME_CONTRACT_TYPE</th>\n",
       "      <th>CODE_GENDER</th>\n",
       "      <th>FLAG_OWN_CAR</th>\n",
       "      <th>FLAG_OWN_REALTY</th>\n",
       "      <th>CNT_CHILDREN</th>\n",
       "      <th>AMT_INCOME_TOTAL</th>\n",
       "      <th>AMT_CREDIT</th>\n",
       "      <th>AMT_ANNUITY</th>\n",
       "      <th>...</th>\n",
       "      <th>FLAG_DOCUMENT_18</th>\n",
       "      <th>FLAG_DOCUMENT_19</th>\n",
       "      <th>FLAG_DOCUMENT_20</th>\n",
       "      <th>FLAG_DOCUMENT_21</th>\n",
       "      <th>AMT_REQ_CREDIT_BUREAU_HOUR</th>\n",
       "      <th>AMT_REQ_CREDIT_BUREAU_DAY</th>\n",
       "      <th>AMT_REQ_CREDIT_BUREAU_WEEK</th>\n",
       "      <th>AMT_REQ_CREDIT_BUREAU_MON</th>\n",
       "      <th>AMT_REQ_CREDIT_BUREAU_QRT</th>\n",
       "      <th>AMT_REQ_CREDIT_BUREAU_YEAR</th>\n",
       "    </tr>\n",
       "  </thead>\n",
       "  <tbody>\n",
       "    <tr>\n",
       "      <th>0</th>\n",
       "      <td>100002</td>\n",
       "      <td>1</td>\n",
       "      <td>Cash loans</td>\n",
       "      <td>M</td>\n",
       "      <td>N</td>\n",
       "      <td>Y</td>\n",
       "      <td>0</td>\n",
       "      <td>202500.0</td>\n",
       "      <td>406597.5</td>\n",
       "      <td>24700.5</td>\n",
       "      <td>...</td>\n",
       "      <td>0</td>\n",
       "      <td>0</td>\n",
       "      <td>0</td>\n",
       "      <td>0</td>\n",
       "      <td>0.0</td>\n",
       "      <td>0.0</td>\n",
       "      <td>0.0</td>\n",
       "      <td>0.0</td>\n",
       "      <td>0.0</td>\n",
       "      <td>1.0</td>\n",
       "    </tr>\n",
       "    <tr>\n",
       "      <th>1</th>\n",
       "      <td>100003</td>\n",
       "      <td>0</td>\n",
       "      <td>Cash loans</td>\n",
       "      <td>F</td>\n",
       "      <td>N</td>\n",
       "      <td>N</td>\n",
       "      <td>0</td>\n",
       "      <td>270000.0</td>\n",
       "      <td>1293502.5</td>\n",
       "      <td>35698.5</td>\n",
       "      <td>...</td>\n",
       "      <td>0</td>\n",
       "      <td>0</td>\n",
       "      <td>0</td>\n",
       "      <td>0</td>\n",
       "      <td>0.0</td>\n",
       "      <td>0.0</td>\n",
       "      <td>0.0</td>\n",
       "      <td>0.0</td>\n",
       "      <td>0.0</td>\n",
       "      <td>0.0</td>\n",
       "    </tr>\n",
       "    <tr>\n",
       "      <th>2</th>\n",
       "      <td>100004</td>\n",
       "      <td>0</td>\n",
       "      <td>Revolving loans</td>\n",
       "      <td>M</td>\n",
       "      <td>Y</td>\n",
       "      <td>Y</td>\n",
       "      <td>0</td>\n",
       "      <td>67500.0</td>\n",
       "      <td>135000.0</td>\n",
       "      <td>6750.0</td>\n",
       "      <td>...</td>\n",
       "      <td>0</td>\n",
       "      <td>0</td>\n",
       "      <td>0</td>\n",
       "      <td>0</td>\n",
       "      <td>0.0</td>\n",
       "      <td>0.0</td>\n",
       "      <td>0.0</td>\n",
       "      <td>0.0</td>\n",
       "      <td>0.0</td>\n",
       "      <td>0.0</td>\n",
       "    </tr>\n",
       "    <tr>\n",
       "      <th>3</th>\n",
       "      <td>100006</td>\n",
       "      <td>0</td>\n",
       "      <td>Cash loans</td>\n",
       "      <td>F</td>\n",
       "      <td>N</td>\n",
       "      <td>Y</td>\n",
       "      <td>0</td>\n",
       "      <td>135000.0</td>\n",
       "      <td>312682.5</td>\n",
       "      <td>29686.5</td>\n",
       "      <td>...</td>\n",
       "      <td>0</td>\n",
       "      <td>0</td>\n",
       "      <td>0</td>\n",
       "      <td>0</td>\n",
       "      <td>NaN</td>\n",
       "      <td>NaN</td>\n",
       "      <td>NaN</td>\n",
       "      <td>NaN</td>\n",
       "      <td>NaN</td>\n",
       "      <td>NaN</td>\n",
       "    </tr>\n",
       "    <tr>\n",
       "      <th>4</th>\n",
       "      <td>100007</td>\n",
       "      <td>0</td>\n",
       "      <td>Cash loans</td>\n",
       "      <td>M</td>\n",
       "      <td>N</td>\n",
       "      <td>Y</td>\n",
       "      <td>0</td>\n",
       "      <td>121500.0</td>\n",
       "      <td>513000.0</td>\n",
       "      <td>21865.5</td>\n",
       "      <td>...</td>\n",
       "      <td>0</td>\n",
       "      <td>0</td>\n",
       "      <td>0</td>\n",
       "      <td>0</td>\n",
       "      <td>0.0</td>\n",
       "      <td>0.0</td>\n",
       "      <td>0.0</td>\n",
       "      <td>0.0</td>\n",
       "      <td>0.0</td>\n",
       "      <td>0.0</td>\n",
       "    </tr>\n",
       "  </tbody>\n",
       "</table>\n",
       "<p>5 rows × 122 columns</p>\n",
       "</div>"
      ],
      "text/plain": [
       "   SK_ID_CURR  TARGET NAME_CONTRACT_TYPE CODE_GENDER FLAG_OWN_CAR  \\\n",
       "0      100002       1         Cash loans           M            N   \n",
       "1      100003       0         Cash loans           F            N   \n",
       "2      100004       0    Revolving loans           M            Y   \n",
       "3      100006       0         Cash loans           F            N   \n",
       "4      100007       0         Cash loans           M            N   \n",
       "\n",
       "  FLAG_OWN_REALTY  CNT_CHILDREN  AMT_INCOME_TOTAL  AMT_CREDIT  AMT_ANNUITY  \\\n",
       "0               Y             0          202500.0    406597.5      24700.5   \n",
       "1               N             0          270000.0   1293502.5      35698.5   \n",
       "2               Y             0           67500.0    135000.0       6750.0   \n",
       "3               Y             0          135000.0    312682.5      29686.5   \n",
       "4               Y             0          121500.0    513000.0      21865.5   \n",
       "\n",
       "              ...              FLAG_DOCUMENT_18 FLAG_DOCUMENT_19  \\\n",
       "0             ...                             0                0   \n",
       "1             ...                             0                0   \n",
       "2             ...                             0                0   \n",
       "3             ...                             0                0   \n",
       "4             ...                             0                0   \n",
       "\n",
       "  FLAG_DOCUMENT_20 FLAG_DOCUMENT_21 AMT_REQ_CREDIT_BUREAU_HOUR  \\\n",
       "0                0                0                        0.0   \n",
       "1                0                0                        0.0   \n",
       "2                0                0                        0.0   \n",
       "3                0                0                        NaN   \n",
       "4                0                0                        0.0   \n",
       "\n",
       "  AMT_REQ_CREDIT_BUREAU_DAY  AMT_REQ_CREDIT_BUREAU_WEEK  \\\n",
       "0                       0.0                         0.0   \n",
       "1                       0.0                         0.0   \n",
       "2                       0.0                         0.0   \n",
       "3                       NaN                         NaN   \n",
       "4                       0.0                         0.0   \n",
       "\n",
       "   AMT_REQ_CREDIT_BUREAU_MON  AMT_REQ_CREDIT_BUREAU_QRT  \\\n",
       "0                        0.0                        0.0   \n",
       "1                        0.0                        0.0   \n",
       "2                        0.0                        0.0   \n",
       "3                        NaN                        NaN   \n",
       "4                        0.0                        0.0   \n",
       "\n",
       "   AMT_REQ_CREDIT_BUREAU_YEAR  \n",
       "0                         1.0  \n",
       "1                         0.0  \n",
       "2                         0.0  \n",
       "3                         NaN  \n",
       "4                         0.0  \n",
       "\n",
       "[5 rows x 122 columns]"
      ]
     },
     "execution_count": 10,
     "metadata": {},
     "output_type": "execute_result"
    }
   ],
   "source": [
    "df_train.head()"
   ]
  },
  {
   "cell_type": "code",
   "execution_count": 11,
   "metadata": {},
   "outputs": [],
   "source": [
    "X_test = pd.read_csv('application_test.csv')"
   ]
  },
  {
   "cell_type": "markdown",
   "metadata": {},
   "source": [
    "### Run this cell for mem checks"
   ]
  },
  {
   "cell_type": "code",
   "execution_count": 12,
   "metadata": {},
   "outputs": [
    {
     "data": {
      "text/plain": [
       "[('df_train', 570142137),\n",
       " ('X_test', 90020943),\n",
       " ('Imputer', 1056),\n",
       " ('KFold', 1056),\n",
       " ('StandardScaler', 1056),\n",
       " ('StratifiedKFold', 1056),\n",
       " ('XGBClassifier', 1056),\n",
       " ('accuracy_score', 136),\n",
       " ('auc', 136),\n",
       " ('confusion_matrix', 136),\n",
       " ('cross_val_score', 136),\n",
       " ('make_pipeline', 136),\n",
       " ('plot_importance', 136),\n",
       " ('precision_score', 136),\n",
       " ('recall_score', 136),\n",
       " ('roc_auc_score', 136),\n",
       " ('roc_curve', 136),\n",
       " ('train_test_split', 136),\n",
       " ('np', 80),\n",
       " ('pd', 80),\n",
       " ('plt', 80),\n",
       " ('sns', 80)]"
      ]
     },
     "execution_count": 12,
     "metadata": {},
     "output_type": "execute_result"
    }
   ],
   "source": [
    "import sys\n",
    "\n",
    "# These are the usual ipython objects, including this one you are creating\n",
    "ipython_vars = ['In', 'Out', 'exit', 'quit', 'get_ipython', 'ipython_vars']\n",
    "\n",
    "# Get a sorted list of the objects and their sizes\n",
    "sorted([(x, sys.getsizeof(globals().get(x))) for x in dir() if not x.startswith('_') and x not in sys.modules and x not in ipython_vars], key=lambda x: x[1], reverse=True)"
   ]
  },
  {
   "cell_type": "code",
   "execution_count": 13,
   "metadata": {},
   "outputs": [],
   "source": [
    "X = df_train.drop(['TARGET'], axis=1)\n",
    "y = df_train['TARGET']"
   ]
  },
  {
   "cell_type": "markdown",
   "metadata": {},
   "source": [
    "### Find columns with nulls"
   ]
  },
  {
   "cell_type": "code",
   "execution_count": 14,
   "metadata": {},
   "outputs": [
    {
     "data": {
      "text/plain": [
       "Index(['AMT_ANNUITY', 'AMT_GOODS_PRICE', 'NAME_TYPE_SUITE', 'OWN_CAR_AGE',\n",
       "       'OCCUPATION_TYPE', 'CNT_FAM_MEMBERS', 'EXT_SOURCE_1', 'EXT_SOURCE_2',\n",
       "       'EXT_SOURCE_3', 'APARTMENTS_AVG', 'BASEMENTAREA_AVG',\n",
       "       'YEARS_BEGINEXPLUATATION_AVG', 'YEARS_BUILD_AVG', 'COMMONAREA_AVG',\n",
       "       'ELEVATORS_AVG', 'ENTRANCES_AVG', 'FLOORSMAX_AVG', 'FLOORSMIN_AVG',\n",
       "       'LANDAREA_AVG', 'LIVINGAPARTMENTS_AVG', 'LIVINGAREA_AVG',\n",
       "       'NONLIVINGAPARTMENTS_AVG', 'NONLIVINGAREA_AVG', 'APARTMENTS_MODE',\n",
       "       'BASEMENTAREA_MODE', 'YEARS_BEGINEXPLUATATION_MODE', 'YEARS_BUILD_MODE',\n",
       "       'COMMONAREA_MODE', 'ELEVATORS_MODE', 'ENTRANCES_MODE', 'FLOORSMAX_MODE',\n",
       "       'FLOORSMIN_MODE', 'LANDAREA_MODE', 'LIVINGAPARTMENTS_MODE',\n",
       "       'LIVINGAREA_MODE', 'NONLIVINGAPARTMENTS_MODE', 'NONLIVINGAREA_MODE',\n",
       "       'APARTMENTS_MEDI', 'BASEMENTAREA_MEDI', 'YEARS_BEGINEXPLUATATION_MEDI',\n",
       "       'YEARS_BUILD_MEDI', 'COMMONAREA_MEDI', 'ELEVATORS_MEDI',\n",
       "       'ENTRANCES_MEDI', 'FLOORSMAX_MEDI', 'FLOORSMIN_MEDI', 'LANDAREA_MEDI',\n",
       "       'LIVINGAPARTMENTS_MEDI', 'LIVINGAREA_MEDI', 'NONLIVINGAPARTMENTS_MEDI',\n",
       "       'NONLIVINGAREA_MEDI', 'FONDKAPREMONT_MODE', 'HOUSETYPE_MODE',\n",
       "       'TOTALAREA_MODE', 'WALLSMATERIAL_MODE', 'EMERGENCYSTATE_MODE',\n",
       "       'OBS_30_CNT_SOCIAL_CIRCLE', 'DEF_30_CNT_SOCIAL_CIRCLE',\n",
       "       'OBS_60_CNT_SOCIAL_CIRCLE', 'DEF_60_CNT_SOCIAL_CIRCLE',\n",
       "       'DAYS_LAST_PHONE_CHANGE', 'AMT_REQ_CREDIT_BUREAU_HOUR',\n",
       "       'AMT_REQ_CREDIT_BUREAU_DAY', 'AMT_REQ_CREDIT_BUREAU_WEEK',\n",
       "       'AMT_REQ_CREDIT_BUREAU_MON', 'AMT_REQ_CREDIT_BUREAU_QRT',\n",
       "       'AMT_REQ_CREDIT_BUREAU_YEAR'],\n",
       "      dtype='object')"
      ]
     },
     "execution_count": 14,
     "metadata": {},
     "output_type": "execute_result"
    }
   ],
   "source": [
    "columns_null = X.columns[X.count() != 307511]\n",
    "columns_null"
   ]
  },
  {
   "cell_type": "code",
   "execution_count": 15,
   "metadata": {},
   "outputs": [
    {
     "data": {
      "text/plain": [
       "AMT_ANNUITY                     0.999961\n",
       "AMT_GOODS_PRICE                 0.999096\n",
       "NAME_TYPE_SUITE                 0.995799\n",
       "OWN_CAR_AGE                     0.340092\n",
       "OCCUPATION_TYPE                 0.686545\n",
       "CNT_FAM_MEMBERS                 0.999993\n",
       "EXT_SOURCE_1                    0.436189\n",
       "EXT_SOURCE_2                    0.997854\n",
       "EXT_SOURCE_3                    0.801747\n",
       "APARTMENTS_AVG                  0.492503\n",
       "BASEMENTAREA_AVG                0.414840\n",
       "YEARS_BEGINEXPLUATATION_AVG     0.512190\n",
       "YEARS_BUILD_AVG                 0.335022\n",
       "COMMONAREA_AVG                  0.301277\n",
       "ELEVATORS_AVG                   0.467040\n",
       "ENTRANCES_AVG                   0.496512\n",
       "FLOORSMAX_AVG                   0.502392\n",
       "FLOORSMIN_AVG                   0.321514\n",
       "LANDAREA_AVG                    0.406233\n",
       "LIVINGAPARTMENTS_AVG            0.316450\n",
       "LIVINGAREA_AVG                  0.498067\n",
       "NONLIVINGAPARTMENTS_AVG         0.305670\n",
       "NONLIVINGAREA_AVG               0.448208\n",
       "APARTMENTS_MODE                 0.492503\n",
       "BASEMENTAREA_MODE               0.414840\n",
       "YEARS_BEGINEXPLUATATION_MODE    0.512190\n",
       "YEARS_BUILD_MODE                0.335022\n",
       "COMMONAREA_MODE                 0.301277\n",
       "ELEVATORS_MODE                  0.467040\n",
       "ENTRANCES_MODE                  0.496512\n",
       "                                  ...   \n",
       "APARTMENTS_MEDI                 0.492503\n",
       "BASEMENTAREA_MEDI               0.414840\n",
       "YEARS_BEGINEXPLUATATION_MEDI    0.512190\n",
       "YEARS_BUILD_MEDI                0.335022\n",
       "COMMONAREA_MEDI                 0.301277\n",
       "ELEVATORS_MEDI                  0.467040\n",
       "ENTRANCES_MEDI                  0.496512\n",
       "FLOORSMAX_MEDI                  0.502392\n",
       "FLOORSMIN_MEDI                  0.321514\n",
       "LANDAREA_MEDI                   0.406233\n",
       "LIVINGAPARTMENTS_MEDI           0.316450\n",
       "LIVINGAREA_MEDI                 0.498067\n",
       "NONLIVINGAPARTMENTS_MEDI        0.305670\n",
       "NONLIVINGAREA_MEDI              0.448208\n",
       "FONDKAPREMONT_MODE              0.316138\n",
       "HOUSETYPE_MODE                  0.498239\n",
       "TOTALAREA_MODE                  0.517315\n",
       "WALLSMATERIAL_MODE              0.491592\n",
       "EMERGENCYSTATE_MODE             0.526017\n",
       "OBS_30_CNT_SOCIAL_CIRCLE        0.996680\n",
       "DEF_30_CNT_SOCIAL_CIRCLE        0.996680\n",
       "OBS_60_CNT_SOCIAL_CIRCLE        0.996680\n",
       "DEF_60_CNT_SOCIAL_CIRCLE        0.996680\n",
       "DAYS_LAST_PHONE_CHANGE          0.999997\n",
       "AMT_REQ_CREDIT_BUREAU_HOUR      0.864984\n",
       "AMT_REQ_CREDIT_BUREAU_DAY       0.864984\n",
       "AMT_REQ_CREDIT_BUREAU_WEEK      0.864984\n",
       "AMT_REQ_CREDIT_BUREAU_MON       0.864984\n",
       "AMT_REQ_CREDIT_BUREAU_QRT       0.864984\n",
       "AMT_REQ_CREDIT_BUREAU_YEAR      0.864984\n",
       "Length: 67, dtype: float64"
      ]
     },
     "execution_count": 15,
     "metadata": {},
     "output_type": "execute_result"
    }
   ],
   "source": [
    "X[columns_null].count()/307511"
   ]
  },
  {
   "cell_type": "markdown",
   "metadata": {},
   "source": [
    "### Inspect number of values in each categorical col"
   ]
  },
  {
   "cell_type": "markdown",
   "metadata": {},
   "source": [
    "Some categorical columns are incorrectly coded as int64.  Convert them to objects."
   ]
  },
  {
   "cell_type": "code",
   "execution_count": 16,
   "metadata": {},
   "outputs": [
    {
     "data": {
      "text/plain": [
       "1    307510\n",
       "0         1\n",
       "Name: FLAG_MOBIL, dtype: int64"
      ]
     },
     "execution_count": 16,
     "metadata": {},
     "output_type": "execute_result"
    }
   ],
   "source": [
    "df_train.FLAG_MOBIL.value_counts()"
   ]
  },
  {
   "cell_type": "code",
   "execution_count": 17,
   "metadata": {},
   "outputs": [
    {
     "data": {
      "text/plain": [
       "0.08072881945686496"
      ]
     },
     "execution_count": 17,
     "metadata": {},
     "output_type": "execute_result"
    }
   ],
   "source": [
    "y.mean()"
   ]
  },
  {
   "cell_type": "code",
   "execution_count": 18,
   "metadata": {},
   "outputs": [
    {
     "name": "stderr",
     "output_type": "stream",
     "text": [
      "/home/goodwin/anaconda3/lib/python3.6/site-packages/ipykernel_launcher.py:6: FutureWarning: 'argmin' is deprecated, use 'idxmin' instead. The behavior of 'argmin'\n",
      "will be corrected to return the positional minimum in the future.\n",
      "Use 'series.values.argmin' to get the position of the minimum now.\n",
      "  \n"
     ]
    },
    {
     "name": "stdout",
     "output_type": "stream",
     "text": [
      "FLAG_MOBIL 1 0.0\n",
      "FLAG_DOCUMENT_2 13 0.3076923076923077\n",
      "FLAG_DOCUMENT_4 25 0.0\n",
      "FLAG_DOCUMENT_7 59 0.05084745762711865\n",
      "FLAG_DOCUMENT_10 7 0.0\n",
      "FLAG_DOCUMENT_12 2 0.0\n",
      "FLAG_DOCUMENT_17 82 0.024390243902439025\n",
      "FLAG_DOCUMENT_19 183 0.06557377049180328\n",
      "FLAG_DOCUMENT_20 156 0.08333333333333333\n",
      "FLAG_DOCUMENT_21 103 0.13592233009708737\n"
     ]
    }
   ],
   "source": [
    "#examine very lopsided cols to see if we can just remove them\n",
    "import re\n",
    "for col in df_train.columns:\n",
    "    if re.search(r'FLAG', col):\n",
    "        if df_train[col].value_counts().min()/df_train[col].value_counts().max() < .001:\n",
    "            min_msk = df_train[col] == df_train[col].value_counts().argmin()\n",
    "            print(col, df_train[col].value_counts().min(), y[min_msk].mean())"
   ]
  },
  {
   "cell_type": "markdown",
   "metadata": {},
   "source": [
    "flag doc 2, 21, 82, and 4(maybe) look important"
   ]
  },
  {
   "cell_type": "code",
   "execution_count": 19,
   "metadata": {},
   "outputs": [],
   "source": [
    "#drop columns that don't have much info\n",
    "X.drop(columns=['FLAG_MOBIL', 'FLAG_DOCUMENT_10', 'FLAG_DOCUMENT_12'], inplace=True, errors='ignore')\n",
    "X_test.drop(columns=['FLAG_MOBIL', 'FLAG_DOCUMENT_10', 'FLAG_DOCUMENT_12'], inplace=True, errors='ignore')"
   ]
  },
  {
   "cell_type": "markdown",
   "metadata": {},
   "source": [
    "### Visualize"
   ]
  },
  {
   "cell_type": "code",
   "execution_count": 20,
   "metadata": {},
   "outputs": [],
   "source": [
    "# for col in df_train.columns[2:]:\n",
    "#     try:\n",
    "#         g = sns.FacetGrid(df_train[[col, 'TARGET']], hue='TARGET')\n",
    "#         g = g.map(plt.hist, col)\n",
    "#     except:\n",
    "#         pass"
   ]
  },
  {
   "cell_type": "code",
   "execution_count": 21,
   "metadata": {},
   "outputs": [
    {
     "data": {
      "text/plain": [
       "0.05399646043269404"
      ]
     },
     "execution_count": 21,
     "metadata": {},
     "output_type": "execute_result"
    }
   ],
   "source": [
    "y[X.DAYS_EMPLOYED > 0].mean()"
   ]
  },
  {
   "cell_type": "markdown",
   "metadata": {},
   "source": [
    "seems like it has an effect on target, so let's replace this with NaN and create new col that flags any weird number in this col"
   ]
  },
  {
   "cell_type": "code",
   "execution_count": 22,
   "metadata": {},
   "outputs": [],
   "source": [
    "X['DAYS_EMPLOYED_ABNORMAL'] = (X['DAYS_EMPLOYED'] > 0).astype(int)\n",
    "X_test['DAYS_EMPLOYED_ABNORMAL'] = (X_test['DAYS_EMPLOYED'] > 0).astype(int)"
   ]
  },
  {
   "cell_type": "code",
   "execution_count": 23,
   "metadata": {},
   "outputs": [
    {
     "name": "stderr",
     "output_type": "stream",
     "text": [
      "/home/goodwin/anaconda3/lib/python3.6/site-packages/ipykernel_launcher.py:1: SettingWithCopyWarning: \n",
      "A value is trying to be set on a copy of a slice from a DataFrame\n",
      "\n",
      "See the caveats in the documentation: http://pandas.pydata.org/pandas-docs/stable/indexing.html#indexing-view-versus-copy\n",
      "  \"\"\"Entry point for launching an IPython kernel.\n",
      "/home/goodwin/anaconda3/lib/python3.6/site-packages/ipykernel_launcher.py:2: SettingWithCopyWarning: \n",
      "A value is trying to be set on a copy of a slice from a DataFrame\n",
      "\n",
      "See the caveats in the documentation: http://pandas.pydata.org/pandas-docs/stable/indexing.html#indexing-view-versus-copy\n",
      "  \n"
     ]
    }
   ],
   "source": [
    "X['DAYS_EMPLOYED'][X['DAYS_EMPLOYED'] > 0] = np.nan\n",
    "X_test['DAYS_EMPLOYED'][X_test['DAYS_EMPLOYED'] > 0] = np.nan"
   ]
  },
  {
   "cell_type": "code",
   "execution_count": 24,
   "metadata": {},
   "outputs": [
    {
     "data": {
      "text/plain": [
       "(55374, 9274)"
      ]
     },
     "execution_count": 24,
     "metadata": {},
     "output_type": "execute_result"
    }
   ],
   "source": [
    "X['DAYS_EMPLOYED'].isnull().sum(), X_test['DAYS_EMPLOYED'].isnull().sum()"
   ]
  },
  {
   "cell_type": "markdown",
   "metadata": {},
   "source": [
    "### Imputation"
   ]
  },
  {
   "cell_type": "code",
   "execution_count": 25,
   "metadata": {},
   "outputs": [],
   "source": [
    "# X_imputed = X.fillna(X.mean(numeric_only=True))"
   ]
  },
  {
   "cell_type": "code",
   "execution_count": 26,
   "metadata": {},
   "outputs": [],
   "source": [
    "# X_imputed = X_imputed.fillna(X_imputed.mode().iloc[0])"
   ]
  },
  {
   "cell_type": "code",
   "execution_count": 27,
   "metadata": {},
   "outputs": [],
   "source": [
    "#check to see if any null values in entire DF\n",
    "# X_imputed.isnull().sum().sum()"
   ]
  },
  {
   "cell_type": "code",
   "execution_count": 28,
   "metadata": {},
   "outputs": [],
   "source": [
    "# X_imputed['REGION_RATING_CLIENT'] = X_imputed['REGION_RATING_CLIENT'].astype(object)\n",
    "# X_imputed['REGION_RATING_CLIENT_W_CITY'] = X_imputed['REGION_RATING_CLIENT_W_CITY'].astype(object)"
   ]
  },
  {
   "cell_type": "code",
   "execution_count": 29,
   "metadata": {},
   "outputs": [],
   "source": [
    "# X_imputed = pd.get_dummies(X_imputed)"
   ]
  },
  {
   "cell_type": "code",
   "execution_count": 30,
   "metadata": {},
   "outputs": [],
   "source": [
    "X['REGION_RATING_CLIENT'] = X['REGION_RATING_CLIENT'].astype(object)\n",
    "X['REGION_RATING_CLIENT_W_CITY'] = X['REGION_RATING_CLIENT_W_CITY'].astype(object)\n",
    "X_test['REGION_RATING_CLIENT'] = X_test['REGION_RATING_CLIENT'].astype(object)\n",
    "X_test['REGION_RATING_CLIENT_W_CITY'] = X_test['REGION_RATING_CLIENT_W_CITY'].astype(object)"
   ]
  },
  {
   "cell_type": "code",
   "execution_count": 31,
   "metadata": {},
   "outputs": [],
   "source": [
    "X = pd.get_dummies(X)\n",
    "X_test = pd.get_dummies(X_test)"
   ]
  },
  {
   "cell_type": "code",
   "execution_count": 37,
   "metadata": {},
   "outputs": [
    {
     "data": {
      "text/plain": [
       "SK_ID_CURR                         0\n",
       "TARGET                             0\n",
       "NAME_CONTRACT_TYPE                 0\n",
       "CODE_GENDER                        0\n",
       "FLAG_OWN_CAR                       0\n",
       "FLAG_OWN_REALTY                    0\n",
       "CNT_CHILDREN                       0\n",
       "AMT_INCOME_TOTAL                   0\n",
       "AMT_CREDIT                         0\n",
       "AMT_ANNUITY                       12\n",
       "AMT_GOODS_PRICE                  278\n",
       "NAME_TYPE_SUITE                 1292\n",
       "NAME_INCOME_TYPE                   0\n",
       "NAME_EDUCATION_TYPE                0\n",
       "NAME_FAMILY_STATUS                 0\n",
       "NAME_HOUSING_TYPE                  0\n",
       "REGION_POPULATION_RELATIVE         0\n",
       "DAYS_BIRTH                         0\n",
       "DAYS_EMPLOYED                      0\n",
       "DAYS_REGISTRATION                  0\n",
       "DAYS_ID_PUBLISH                    0\n",
       "OWN_CAR_AGE                   202929\n",
       "FLAG_MOBIL                         0\n",
       "FLAG_EMP_PHONE                     0\n",
       "FLAG_WORK_PHONE                    0\n",
       "FLAG_CONT_MOBILE                   0\n",
       "FLAG_PHONE                         0\n",
       "FLAG_EMAIL                         0\n",
       "OCCUPATION_TYPE                96391\n",
       "CNT_FAM_MEMBERS                    2\n",
       "                               ...  \n",
       "DEF_30_CNT_SOCIAL_CIRCLE        1021\n",
       "OBS_60_CNT_SOCIAL_CIRCLE        1021\n",
       "DEF_60_CNT_SOCIAL_CIRCLE        1021\n",
       "DAYS_LAST_PHONE_CHANGE             1\n",
       "FLAG_DOCUMENT_2                    0\n",
       "FLAG_DOCUMENT_3                    0\n",
       "FLAG_DOCUMENT_4                    0\n",
       "FLAG_DOCUMENT_5                    0\n",
       "FLAG_DOCUMENT_6                    0\n",
       "FLAG_DOCUMENT_7                    0\n",
       "FLAG_DOCUMENT_8                    0\n",
       "FLAG_DOCUMENT_9                    0\n",
       "FLAG_DOCUMENT_10                   0\n",
       "FLAG_DOCUMENT_11                   0\n",
       "FLAG_DOCUMENT_12                   0\n",
       "FLAG_DOCUMENT_13                   0\n",
       "FLAG_DOCUMENT_14                   0\n",
       "FLAG_DOCUMENT_15                   0\n",
       "FLAG_DOCUMENT_16                   0\n",
       "FLAG_DOCUMENT_17                   0\n",
       "FLAG_DOCUMENT_18                   0\n",
       "FLAG_DOCUMENT_19                   0\n",
       "FLAG_DOCUMENT_20                   0\n",
       "FLAG_DOCUMENT_21                   0\n",
       "AMT_REQ_CREDIT_BUREAU_HOUR     41519\n",
       "AMT_REQ_CREDIT_BUREAU_DAY      41519\n",
       "AMT_REQ_CREDIT_BUREAU_WEEK     41519\n",
       "AMT_REQ_CREDIT_BUREAU_MON      41519\n",
       "AMT_REQ_CREDIT_BUREAU_QRT      41519\n",
       "AMT_REQ_CREDIT_BUREAU_YEAR     41519\n",
       "Length: 122, dtype: int64"
      ]
     },
     "execution_count": 37,
     "metadata": {},
     "output_type": "execute_result"
    }
   ],
   "source": [
    "df_train.isnull().sum()"
   ]
  },
  {
   "cell_type": "code",
   "execution_count": 34,
   "metadata": {},
   "outputs": [
    {
     "name": "stdout",
     "output_type": "stream",
     "text": [
      "SK_ID_CURR\n",
      "CNT_CHILDREN\n",
      "AMT_INCOME_TOTAL\n",
      "AMT_CREDIT\n",
      "AMT_ANNUITY\n",
      "AMT_GOODS_PRICE\n",
      "REGION_POPULATION_RELATIVE\n",
      "DAYS_BIRTH\n",
      "DAYS_EMPLOYED\n",
      "DAYS_REGISTRATION\n",
      "DAYS_ID_PUBLISH\n",
      "OWN_CAR_AGE\n",
      "FLAG_EMP_PHONE\n",
      "FLAG_WORK_PHONE\n",
      "FLAG_CONT_MOBILE\n",
      "FLAG_PHONE\n",
      "FLAG_EMAIL\n",
      "CNT_FAM_MEMBERS\n",
      "HOUR_APPR_PROCESS_START\n",
      "REG_REGION_NOT_LIVE_REGION\n",
      "REG_REGION_NOT_WORK_REGION\n",
      "LIVE_REGION_NOT_WORK_REGION\n",
      "REG_CITY_NOT_LIVE_CITY\n",
      "REG_CITY_NOT_WORK_CITY\n",
      "LIVE_CITY_NOT_WORK_CITY\n",
      "EXT_SOURCE_1\n",
      "EXT_SOURCE_2\n",
      "EXT_SOURCE_3\n",
      "APARTMENTS_AVG\n",
      "BASEMENTAREA_AVG\n",
      "YEARS_BEGINEXPLUATATION_AVG\n",
      "YEARS_BUILD_AVG\n",
      "COMMONAREA_AVG\n",
      "ELEVATORS_AVG\n",
      "ENTRANCES_AVG\n",
      "FLOORSMAX_AVG\n",
      "FLOORSMIN_AVG\n",
      "LANDAREA_AVG\n",
      "LIVINGAPARTMENTS_AVG\n",
      "LIVINGAREA_AVG\n",
      "NONLIVINGAPARTMENTS_AVG\n",
      "NONLIVINGAREA_AVG\n",
      "APARTMENTS_MODE\n",
      "BASEMENTAREA_MODE\n",
      "YEARS_BEGINEXPLUATATION_MODE\n",
      "YEARS_BUILD_MODE\n",
      "COMMONAREA_MODE\n",
      "ELEVATORS_MODE\n",
      "ENTRANCES_MODE\n",
      "FLOORSMAX_MODE\n",
      "FLOORSMIN_MODE\n",
      "LANDAREA_MODE\n",
      "LIVINGAPARTMENTS_MODE\n",
      "LIVINGAREA_MODE\n",
      "NONLIVINGAPARTMENTS_MODE\n",
      "NONLIVINGAREA_MODE\n",
      "APARTMENTS_MEDI\n",
      "BASEMENTAREA_MEDI\n",
      "YEARS_BEGINEXPLUATATION_MEDI\n",
      "YEARS_BUILD_MEDI\n",
      "COMMONAREA_MEDI\n",
      "ELEVATORS_MEDI\n",
      "ENTRANCES_MEDI\n",
      "FLOORSMAX_MEDI\n",
      "FLOORSMIN_MEDI\n",
      "LANDAREA_MEDI\n",
      "LIVINGAPARTMENTS_MEDI\n",
      "LIVINGAREA_MEDI\n",
      "NONLIVINGAPARTMENTS_MEDI\n",
      "NONLIVINGAREA_MEDI\n",
      "TOTALAREA_MODE\n",
      "OBS_30_CNT_SOCIAL_CIRCLE\n",
      "DEF_30_CNT_SOCIAL_CIRCLE\n",
      "OBS_60_CNT_SOCIAL_CIRCLE\n",
      "DEF_60_CNT_SOCIAL_CIRCLE\n",
      "DAYS_LAST_PHONE_CHANGE\n",
      "FLAG_DOCUMENT_2\n",
      "FLAG_DOCUMENT_3\n",
      "FLAG_DOCUMENT_4\n",
      "FLAG_DOCUMENT_5\n",
      "FLAG_DOCUMENT_6\n",
      "FLAG_DOCUMENT_7\n",
      "FLAG_DOCUMENT_8\n",
      "FLAG_DOCUMENT_9\n",
      "FLAG_DOCUMENT_11\n",
      "FLAG_DOCUMENT_13\n",
      "FLAG_DOCUMENT_14\n",
      "FLAG_DOCUMENT_15\n",
      "FLAG_DOCUMENT_16\n",
      "FLAG_DOCUMENT_17\n",
      "FLAG_DOCUMENT_18\n",
      "FLAG_DOCUMENT_19\n",
      "FLAG_DOCUMENT_20\n",
      "FLAG_DOCUMENT_21\n",
      "AMT_REQ_CREDIT_BUREAU_HOUR\n",
      "AMT_REQ_CREDIT_BUREAU_DAY\n",
      "AMT_REQ_CREDIT_BUREAU_WEEK\n",
      "AMT_REQ_CREDIT_BUREAU_MON\n",
      "AMT_REQ_CREDIT_BUREAU_QRT\n",
      "AMT_REQ_CREDIT_BUREAU_YEAR\n",
      "DAYS_EMPLOYED_ABNORMAL\n",
      "NAME_CONTRACT_TYPE_Cash loans\n",
      "NAME_CONTRACT_TYPE_Revolving loans\n",
      "CODE_GENDER_F\n",
      "CODE_GENDER_M\n",
      "CODE_GENDER_XNA\n",
      "FLAG_OWN_CAR_N\n",
      "FLAG_OWN_CAR_Y\n",
      "FLAG_OWN_REALTY_N\n",
      "FLAG_OWN_REALTY_Y\n",
      "NAME_TYPE_SUITE_Children\n",
      "NAME_TYPE_SUITE_Family\n",
      "NAME_TYPE_SUITE_Group of people\n",
      "NAME_TYPE_SUITE_Other_A\n",
      "NAME_TYPE_SUITE_Other_B\n",
      "NAME_TYPE_SUITE_Spouse, partner\n",
      "NAME_TYPE_SUITE_Unaccompanied\n",
      "NAME_INCOME_TYPE_Businessman\n",
      "NAME_INCOME_TYPE_Commercial associate\n",
      "NAME_INCOME_TYPE_Maternity leave\n",
      "NAME_INCOME_TYPE_Pensioner\n",
      "NAME_INCOME_TYPE_State servant\n",
      "NAME_INCOME_TYPE_Student\n",
      "NAME_INCOME_TYPE_Unemployed\n",
      "NAME_INCOME_TYPE_Working\n",
      "NAME_EDUCATION_TYPE_Academic degree\n",
      "NAME_EDUCATION_TYPE_Higher education\n",
      "NAME_EDUCATION_TYPE_Incomplete higher\n",
      "NAME_EDUCATION_TYPE_Lower secondary\n",
      "NAME_EDUCATION_TYPE_Secondary / secondary special\n",
      "NAME_FAMILY_STATUS_Civil marriage\n",
      "NAME_FAMILY_STATUS_Married\n",
      "NAME_FAMILY_STATUS_Separated\n",
      "NAME_FAMILY_STATUS_Single / not married\n",
      "NAME_FAMILY_STATUS_Unknown\n",
      "NAME_FAMILY_STATUS_Widow\n",
      "NAME_HOUSING_TYPE_Co-op apartment\n",
      "NAME_HOUSING_TYPE_House / apartment\n",
      "NAME_HOUSING_TYPE_Municipal apartment\n",
      "NAME_HOUSING_TYPE_Office apartment\n",
      "NAME_HOUSING_TYPE_Rented apartment\n",
      "NAME_HOUSING_TYPE_With parents\n",
      "OCCUPATION_TYPE_Accountants\n",
      "OCCUPATION_TYPE_Cleaning staff\n",
      "OCCUPATION_TYPE_Cooking staff\n",
      "OCCUPATION_TYPE_Core staff\n",
      "OCCUPATION_TYPE_Drivers\n",
      "OCCUPATION_TYPE_HR staff\n",
      "OCCUPATION_TYPE_High skill tech staff\n",
      "OCCUPATION_TYPE_IT staff\n",
      "OCCUPATION_TYPE_Laborers\n",
      "OCCUPATION_TYPE_Low-skill Laborers\n",
      "OCCUPATION_TYPE_Managers\n",
      "OCCUPATION_TYPE_Medicine staff\n",
      "OCCUPATION_TYPE_Private service staff\n",
      "OCCUPATION_TYPE_Realty agents\n",
      "OCCUPATION_TYPE_Sales staff\n",
      "OCCUPATION_TYPE_Secretaries\n",
      "OCCUPATION_TYPE_Security staff\n",
      "OCCUPATION_TYPE_Waiters/barmen staff\n",
      "REGION_RATING_CLIENT_1\n",
      "REGION_RATING_CLIENT_2\n",
      "REGION_RATING_CLIENT_3\n",
      "REGION_RATING_CLIENT_W_CITY_1\n",
      "REGION_RATING_CLIENT_W_CITY_2\n",
      "REGION_RATING_CLIENT_W_CITY_3\n",
      "WEEKDAY_APPR_PROCESS_START_FRIDAY\n",
      "WEEKDAY_APPR_PROCESS_START_MONDAY\n",
      "WEEKDAY_APPR_PROCESS_START_SATURDAY\n",
      "WEEKDAY_APPR_PROCESS_START_SUNDAY\n",
      "WEEKDAY_APPR_PROCESS_START_THURSDAY\n",
      "WEEKDAY_APPR_PROCESS_START_TUESDAY\n",
      "WEEKDAY_APPR_PROCESS_START_WEDNESDAY\n",
      "ORGANIZATION_TYPE_Advertising\n",
      "ORGANIZATION_TYPE_Agriculture\n",
      "ORGANIZATION_TYPE_Bank\n",
      "ORGANIZATION_TYPE_Business Entity Type 1\n",
      "ORGANIZATION_TYPE_Business Entity Type 2\n",
      "ORGANIZATION_TYPE_Business Entity Type 3\n",
      "ORGANIZATION_TYPE_Cleaning\n",
      "ORGANIZATION_TYPE_Construction\n",
      "ORGANIZATION_TYPE_Culture\n",
      "ORGANIZATION_TYPE_Electricity\n",
      "ORGANIZATION_TYPE_Emergency\n",
      "ORGANIZATION_TYPE_Government\n",
      "ORGANIZATION_TYPE_Hotel\n",
      "ORGANIZATION_TYPE_Housing\n",
      "ORGANIZATION_TYPE_Industry: type 1\n",
      "ORGANIZATION_TYPE_Industry: type 10\n",
      "ORGANIZATION_TYPE_Industry: type 11\n",
      "ORGANIZATION_TYPE_Industry: type 12\n",
      "ORGANIZATION_TYPE_Industry: type 13\n",
      "ORGANIZATION_TYPE_Industry: type 2\n",
      "ORGANIZATION_TYPE_Industry: type 3\n",
      "ORGANIZATION_TYPE_Industry: type 4\n",
      "ORGANIZATION_TYPE_Industry: type 5\n",
      "ORGANIZATION_TYPE_Industry: type 6\n",
      "ORGANIZATION_TYPE_Industry: type 7\n",
      "ORGANIZATION_TYPE_Industry: type 8\n",
      "ORGANIZATION_TYPE_Industry: type 9\n",
      "ORGANIZATION_TYPE_Insurance\n",
      "ORGANIZATION_TYPE_Kindergarten\n",
      "ORGANIZATION_TYPE_Legal Services\n",
      "ORGANIZATION_TYPE_Medicine\n",
      "ORGANIZATION_TYPE_Military\n",
      "ORGANIZATION_TYPE_Mobile\n",
      "ORGANIZATION_TYPE_Other\n",
      "ORGANIZATION_TYPE_Police\n",
      "ORGANIZATION_TYPE_Postal\n",
      "ORGANIZATION_TYPE_Realtor\n",
      "ORGANIZATION_TYPE_Religion\n",
      "ORGANIZATION_TYPE_Restaurant\n",
      "ORGANIZATION_TYPE_School\n",
      "ORGANIZATION_TYPE_Security\n",
      "ORGANIZATION_TYPE_Security Ministries\n",
      "ORGANIZATION_TYPE_Self-employed\n",
      "ORGANIZATION_TYPE_Services\n",
      "ORGANIZATION_TYPE_Telecom\n",
      "ORGANIZATION_TYPE_Trade: type 1\n",
      "ORGANIZATION_TYPE_Trade: type 2\n",
      "ORGANIZATION_TYPE_Trade: type 3\n",
      "ORGANIZATION_TYPE_Trade: type 4\n",
      "ORGANIZATION_TYPE_Trade: type 5\n",
      "ORGANIZATION_TYPE_Trade: type 6\n",
      "ORGANIZATION_TYPE_Trade: type 7\n",
      "ORGANIZATION_TYPE_Transport: type 1\n",
      "ORGANIZATION_TYPE_Transport: type 2\n",
      "ORGANIZATION_TYPE_Transport: type 3\n",
      "ORGANIZATION_TYPE_Transport: type 4\n",
      "ORGANIZATION_TYPE_University\n",
      "ORGANIZATION_TYPE_XNA\n",
      "FONDKAPREMONT_MODE_not specified\n",
      "FONDKAPREMONT_MODE_org spec account\n",
      "FONDKAPREMONT_MODE_reg oper account\n",
      "FONDKAPREMONT_MODE_reg oper spec account\n",
      "HOUSETYPE_MODE_block of flats\n",
      "HOUSETYPE_MODE_specific housing\n",
      "HOUSETYPE_MODE_terraced house\n",
      "WALLSMATERIAL_MODE_Block\n",
      "WALLSMATERIAL_MODE_Mixed\n",
      "WALLSMATERIAL_MODE_Monolithic\n",
      "WALLSMATERIAL_MODE_Others\n",
      "WALLSMATERIAL_MODE_Panel\n",
      "WALLSMATERIAL_MODE_Stone, brick\n",
      "WALLSMATERIAL_MODE_Wooden\n",
      "EMERGENCYSTATE_MODE_No\n",
      "EMERGENCYSTATE_MODE_Yes\n"
     ]
    },
    {
     "data": {
      "text/plain": [
       "[None,\n",
       " None,\n",
       " None,\n",
       " None,\n",
       " None,\n",
       " None,\n",
       " None,\n",
       " None,\n",
       " None,\n",
       " None,\n",
       " None,\n",
       " None,\n",
       " None,\n",
       " None,\n",
       " None,\n",
       " None,\n",
       " None,\n",
       " None,\n",
       " None,\n",
       " None,\n",
       " None,\n",
       " None,\n",
       " None,\n",
       " None,\n",
       " None,\n",
       " None,\n",
       " None,\n",
       " None,\n",
       " None,\n",
       " None,\n",
       " None,\n",
       " None,\n",
       " None,\n",
       " None,\n",
       " None,\n",
       " None,\n",
       " None,\n",
       " None,\n",
       " None,\n",
       " None,\n",
       " None,\n",
       " None,\n",
       " None,\n",
       " None,\n",
       " None,\n",
       " None,\n",
       " None,\n",
       " None,\n",
       " None,\n",
       " None,\n",
       " None,\n",
       " None,\n",
       " None,\n",
       " None,\n",
       " None,\n",
       " None,\n",
       " None,\n",
       " None,\n",
       " None,\n",
       " None,\n",
       " None,\n",
       " None,\n",
       " None,\n",
       " None,\n",
       " None,\n",
       " None,\n",
       " None,\n",
       " None,\n",
       " None,\n",
       " None,\n",
       " None,\n",
       " None,\n",
       " None,\n",
       " None,\n",
       " None,\n",
       " None,\n",
       " None,\n",
       " None,\n",
       " None,\n",
       " None,\n",
       " None,\n",
       " None,\n",
       " None,\n",
       " None,\n",
       " None,\n",
       " None,\n",
       " None,\n",
       " None,\n",
       " None,\n",
       " None,\n",
       " None,\n",
       " None,\n",
       " None,\n",
       " None,\n",
       " None,\n",
       " None,\n",
       " None,\n",
       " None,\n",
       " None,\n",
       " None,\n",
       " None,\n",
       " None,\n",
       " None,\n",
       " None,\n",
       " None,\n",
       " None,\n",
       " None,\n",
       " None,\n",
       " None,\n",
       " None,\n",
       " None,\n",
       " None,\n",
       " None,\n",
       " None,\n",
       " None,\n",
       " None,\n",
       " None,\n",
       " None,\n",
       " None,\n",
       " None,\n",
       " None,\n",
       " None,\n",
       " None,\n",
       " None,\n",
       " None,\n",
       " None,\n",
       " None,\n",
       " None,\n",
       " None,\n",
       " None,\n",
       " None,\n",
       " None,\n",
       " None,\n",
       " None,\n",
       " None,\n",
       " None,\n",
       " None,\n",
       " None,\n",
       " None,\n",
       " None,\n",
       " None,\n",
       " None,\n",
       " None,\n",
       " None,\n",
       " None,\n",
       " None,\n",
       " None,\n",
       " None,\n",
       " None,\n",
       " None,\n",
       " None,\n",
       " None,\n",
       " None,\n",
       " None,\n",
       " None,\n",
       " None,\n",
       " None,\n",
       " None,\n",
       " None,\n",
       " None,\n",
       " None,\n",
       " None,\n",
       " None,\n",
       " None,\n",
       " None,\n",
       " None,\n",
       " None,\n",
       " None,\n",
       " None,\n",
       " None,\n",
       " None,\n",
       " None,\n",
       " None,\n",
       " None,\n",
       " None,\n",
       " None,\n",
       " None,\n",
       " None,\n",
       " None,\n",
       " None,\n",
       " None,\n",
       " None,\n",
       " None,\n",
       " None,\n",
       " None,\n",
       " None,\n",
       " None,\n",
       " None,\n",
       " None,\n",
       " None,\n",
       " None,\n",
       " None,\n",
       " None,\n",
       " None,\n",
       " None,\n",
       " None,\n",
       " None,\n",
       " None,\n",
       " None,\n",
       " None,\n",
       " None,\n",
       " None,\n",
       " None,\n",
       " None,\n",
       " None,\n",
       " None,\n",
       " None,\n",
       " None,\n",
       " None,\n",
       " None,\n",
       " None,\n",
       " None,\n",
       " None,\n",
       " None,\n",
       " None,\n",
       " None,\n",
       " None,\n",
       " None,\n",
       " None,\n",
       " None,\n",
       " None,\n",
       " None,\n",
       " None,\n",
       " None,\n",
       " None,\n",
       " None,\n",
       " None,\n",
       " None,\n",
       " None,\n",
       " None,\n",
       " None,\n",
       " None,\n",
       " None,\n",
       " None,\n",
       " None,\n",
       " None,\n",
       " None,\n",
       " None,\n",
       " None,\n",
       " None,\n",
       " None,\n",
       " None,\n",
       " None,\n",
       " None,\n",
       " None,\n",
       " None,\n",
       " None]"
      ]
     },
     "execution_count": 34,
     "metadata": {},
     "output_type": "execute_result"
    }
   ],
   "source": [
    "[print(col) for col in X.columns]"
   ]
  },
  {
   "cell_type": "markdown",
   "metadata": {},
   "source": [
    "### Feature Engineering"
   ]
  },
  {
   "cell_type": "code",
   "execution_count": 25,
   "metadata": {},
   "outputs": [],
   "source": [
    "X['CONSUMER'] = (X['AMT_CREDIT'] == X['AMT_GOODS_PRICE']).astype(int)\n",
    "X_test['CONSUMER'] = (X_test['AMT_CREDIT'] == X_test['AMT_GOODS_PRICE']).astype(int)"
   ]
  },
  {
   "cell_type": "code",
   "execution_count": 26,
   "metadata": {},
   "outputs": [],
   "source": [
    "X['TERM'] = X['AMT_CREDIT'] / X['AMT_ANNUITY']\n",
    "X_test['TERM'] = X_test['AMT_CREDIT'] / X_test['AMT_ANNUITY']"
   ]
  },
  {
   "cell_type": "code",
   "execution_count": 27,
   "metadata": {},
   "outputs": [],
   "source": [
    "X['ANNUITY_PER_INCOME'] = X['AMT_ANNUITY'] / X['AMT_INCOME_TOTAL']\n",
    "X_test['ANNUITY_PER_INCOME'] = X_test['AMT_ANNUITY'] / X_test['AMT_INCOME_TOTAL']"
   ]
  },
  {
   "cell_type": "code",
   "execution_count": 28,
   "metadata": {},
   "outputs": [],
   "source": [
    "X, X_test = X.align(X_test, axis=1, join='inner')"
   ]
  },
  {
   "cell_type": "markdown",
   "metadata": {},
   "source": [
    "### Merge with original dataframe (train and test)"
   ]
  },
  {
   "cell_type": "code",
   "execution_count": 29,
   "metadata": {},
   "outputs": [
    {
     "data": {
      "text/plain": [
       "((307511, 247), (48744, 247))"
      ]
     },
     "execution_count": 29,
     "metadata": {},
     "output_type": "execute_result"
    }
   ],
   "source": [
    "X.shape, X_test.shape"
   ]
  },
  {
   "cell_type": "code",
   "execution_count": 30,
   "metadata": {},
   "outputs": [
    {
     "data": {
      "text/plain": [
       "((307511, 284), (48744, 284))"
      ]
     },
     "execution_count": 30,
     "metadata": {},
     "output_type": "execute_result"
    }
   ],
   "source": [
    "features_bureau_df = pd.read_pickle('features_bureau.pkl')\n",
    "features_bureau_test_df = pd.read_pickle('features_bureau_test.pkl')\n",
    "X = pd.concat([X, features_bureau_df.add_suffix('_bur')], axis=1)\n",
    "X_test = pd.concat([X_test, features_bureau_test_df.add_suffix('_bur')], axis=1)\n",
    "X.shape, X_test.shape"
   ]
  },
  {
   "cell_type": "code",
   "execution_count": 31,
   "metadata": {},
   "outputs": [
    {
     "data": {
      "text/plain": [
       "((307511, 449), (48744, 449))"
      ]
     },
     "execution_count": 31,
     "metadata": {},
     "output_type": "execute_result"
    }
   ],
   "source": [
    "features_prev_df = pd.read_pickle('features_prev.pkl')\n",
    "features_prev_test_df = pd.read_pickle('features_prev_test.pkl')\n",
    "X = pd.concat([X, features_prev_df.add_suffix('_prev')], axis=1)\n",
    "X_test = pd.concat([X_test, features_prev_test_df.add_suffix('_prev')], axis=1)\n",
    "X.shape, X_test.shape"
   ]
  },
  {
   "cell_type": "code",
   "execution_count": 32,
   "metadata": {},
   "outputs": [
    {
     "data": {
      "text/plain": [
       "((307511, 457), (48744, 457))"
      ]
     },
     "execution_count": 32,
     "metadata": {},
     "output_type": "execute_result"
    }
   ],
   "source": [
    "features_install_df = pd.read_pickle('features_install.pkl')\n",
    "features_install_test_df = pd.read_pickle('features_install_test.pkl')\n",
    "X = pd.concat([X, features_install_df.add_suffix('_install')], axis=1)\n",
    "X_test = pd.concat([X_test, features_install_test_df.add_suffix('_install')], axis=1)\n",
    "X.shape, X_test.shape"
   ]
  },
  {
   "cell_type": "code",
   "execution_count": 33,
   "metadata": {},
   "outputs": [
    {
     "data": {
      "text/plain": [
       "((307511, 483), (48744, 483))"
      ]
     },
     "execution_count": 33,
     "metadata": {},
     "output_type": "execute_result"
    }
   ],
   "source": [
    "features_pos_df = pd.read_pickle('features_pos.pkl')\n",
    "features_pos_test_df = pd.read_pickle('features_pos_test.pkl')\n",
    "X = pd.concat([X, features_pos_df.add_suffix('_pos')], axis=1)\n",
    "X_test = pd.concat([X_test, features_pos_test_df.add_suffix('_pos')], axis=1)\n",
    "X.shape, X_test.shape"
   ]
  },
  {
   "cell_type": "code",
   "execution_count": 34,
   "metadata": {},
   "outputs": [
    {
     "data": {
      "text/plain": [
       "((307511, 520), (48744, 520))"
      ]
     },
     "execution_count": 34,
     "metadata": {},
     "output_type": "execute_result"
    }
   ],
   "source": [
    "features_cc_df = pd.read_pickle('features_cc.pkl')\n",
    "features_cc_test_df = pd.read_pickle('features_cc_test.pkl')\n",
    "X = pd.concat([X, features_cc_df.add_suffix('_cc')], axis=1)\n",
    "X_test = pd.concat([X_test, features_cc_test_df.add_suffix('_cc')], axis=1)\n",
    "X.shape, X_test.shape"
   ]
  },
  {
   "cell_type": "code",
   "execution_count": 35,
   "metadata": {},
   "outputs": [],
   "source": [
    "# corrs = pd.Series([y.corr(X[col]) for col in X.columns], index=X.columns).sort_values()\n",
    "# corrs"
   ]
  },
  {
   "cell_type": "code",
   "execution_count": 36,
   "metadata": {},
   "outputs": [],
   "source": [
    "# corrs = abs(corrs).sort_values(ascending=False)"
   ]
  },
  {
   "cell_type": "code",
   "execution_count": null,
   "metadata": {},
   "outputs": [],
   "source": []
  },
  {
   "cell_type": "markdown",
   "metadata": {},
   "source": [
    "### Testing section"
   ]
  },
  {
   "cell_type": "code",
   "execution_count": 37,
   "metadata": {},
   "outputs": [],
   "source": [
    "kf = StratifiedKFold(n_splits=10, shuffle=True, random_state=0)"
   ]
  },
  {
   "cell_type": "markdown",
   "metadata": {},
   "source": [
    "Let's write our own cross validation loop so we train only on a small portion of the data.  We'll validate on a much larger set than we train on."
   ]
  },
  {
   "cell_type": "code",
   "execution_count": 38,
   "metadata": {},
   "outputs": [],
   "source": [
    "pipe = make_pipeline(XGBClassifier(random_state=0))"
   ]
  },
  {
   "cell_type": "code",
   "execution_count": 39,
   "metadata": {},
   "outputs": [],
   "source": [
    "# hack so we can train on the smaller set and validate on the larger_set, let's only do it for the first K splits\n",
    "K = 3\n",
    "cv_scores = []\n",
    "for val_ind, tr_ind in kf.split(X,y):\n",
    "    pipe.fit(X.iloc[tr_ind], y.iloc[tr_ind])\n",
    "    cv_scores.append(roc_auc_score(y.iloc[val_ind], pipe.predict_proba(X.iloc[val_ind])[:,1]))\n",
    "    \n",
    "    K -= 1\n",
    "    if K < 1:\n",
    "        break"
   ]
  },
  {
   "cell_type": "code",
   "execution_count": 40,
   "metadata": {},
   "outputs": [
    {
     "data": {
      "text/plain": [
       "[0.7651623777819825, 0.7615830152380761, 0.7613576036642078]"
      ]
     },
     "execution_count": 40,
     "metadata": {},
     "output_type": "execute_result"
    }
   ],
   "source": [
    "cv_scores"
   ]
  },
  {
   "cell_type": "code",
   "execution_count": 41,
   "metadata": {},
   "outputs": [
    {
     "data": {
      "text/plain": [
       "Pipeline(memory=None,\n",
       "     steps=[('xgbclassifier', XGBClassifier(base_score=0.5, booster='gbtree', colsample_bylevel=1,\n",
       "       colsample_bytree=1, gamma=0, learning_rate=0.1, max_delta_step=0,\n",
       "       max_depth=3, min_child_weight=1, missing=None, n_estimators=100,\n",
       "       n_jobs=1, nthread=None, objective='binary:logistic', random_state=0,\n",
       "       reg_alpha=0, reg_lambda=1, scale_pos_weight=1, seed=None,\n",
       "       silent=True, subsample=1))])"
      ]
     },
     "execution_count": 41,
     "metadata": {},
     "output_type": "execute_result"
    }
   ],
   "source": [
    "pipe.fit(X, y)"
   ]
  },
  {
   "cell_type": "code",
   "execution_count": 42,
   "metadata": {},
   "outputs": [],
   "source": [
    "y_pred = pipe.predict_proba(X_test)"
   ]
  },
  {
   "cell_type": "code",
   "execution_count": 49,
   "metadata": {},
   "outputs": [
    {
     "data": {
      "text/html": [
       "<div>\n",
       "<style scoped>\n",
       "    .dataframe tbody tr th:only-of-type {\n",
       "        vertical-align: middle;\n",
       "    }\n",
       "\n",
       "    .dataframe tbody tr th {\n",
       "        vertical-align: top;\n",
       "    }\n",
       "\n",
       "    .dataframe thead th {\n",
       "        text-align: right;\n",
       "    }\n",
       "</style>\n",
       "<table border=\"1\" class=\"dataframe\">\n",
       "  <thead>\n",
       "    <tr style=\"text-align: right;\">\n",
       "      <th></th>\n",
       "      <th>SK_ID_CURR</th>\n",
       "      <th>TARGET</th>\n",
       "    </tr>\n",
       "  </thead>\n",
       "  <tbody>\n",
       "    <tr>\n",
       "      <th>0</th>\n",
       "      <td>100001</td>\n",
       "      <td>0.062734</td>\n",
       "    </tr>\n",
       "    <tr>\n",
       "      <th>1</th>\n",
       "      <td>100005</td>\n",
       "      <td>0.130615</td>\n",
       "    </tr>\n",
       "    <tr>\n",
       "      <th>2</th>\n",
       "      <td>100013</td>\n",
       "      <td>0.023169</td>\n",
       "    </tr>\n",
       "    <tr>\n",
       "      <th>3</th>\n",
       "      <td>100028</td>\n",
       "      <td>0.040770</td>\n",
       "    </tr>\n",
       "    <tr>\n",
       "      <th>4</th>\n",
       "      <td>100038</td>\n",
       "      <td>0.138776</td>\n",
       "    </tr>\n",
       "    <tr>\n",
       "      <th>5</th>\n",
       "      <td>100042</td>\n",
       "      <td>0.058923</td>\n",
       "    </tr>\n",
       "    <tr>\n",
       "      <th>6</th>\n",
       "      <td>100057</td>\n",
       "      <td>0.021726</td>\n",
       "    </tr>\n",
       "    <tr>\n",
       "      <th>7</th>\n",
       "      <td>100065</td>\n",
       "      <td>0.049336</td>\n",
       "    </tr>\n",
       "    <tr>\n",
       "      <th>8</th>\n",
       "      <td>100066</td>\n",
       "      <td>0.024484</td>\n",
       "    </tr>\n",
       "    <tr>\n",
       "      <th>9</th>\n",
       "      <td>100067</td>\n",
       "      <td>0.105692</td>\n",
       "    </tr>\n",
       "    <tr>\n",
       "      <th>10</th>\n",
       "      <td>100074</td>\n",
       "      <td>0.054291</td>\n",
       "    </tr>\n",
       "    <tr>\n",
       "      <th>11</th>\n",
       "      <td>100090</td>\n",
       "      <td>0.068792</td>\n",
       "    </tr>\n",
       "    <tr>\n",
       "      <th>12</th>\n",
       "      <td>100091</td>\n",
       "      <td>0.196580</td>\n",
       "    </tr>\n",
       "    <tr>\n",
       "      <th>13</th>\n",
       "      <td>100092</td>\n",
       "      <td>0.082412</td>\n",
       "    </tr>\n",
       "    <tr>\n",
       "      <th>14</th>\n",
       "      <td>100106</td>\n",
       "      <td>0.056826</td>\n",
       "    </tr>\n",
       "    <tr>\n",
       "      <th>15</th>\n",
       "      <td>100107</td>\n",
       "      <td>0.121471</td>\n",
       "    </tr>\n",
       "    <tr>\n",
       "      <th>16</th>\n",
       "      <td>100109</td>\n",
       "      <td>0.095014</td>\n",
       "    </tr>\n",
       "    <tr>\n",
       "      <th>17</th>\n",
       "      <td>100117</td>\n",
       "      <td>0.032549</td>\n",
       "    </tr>\n",
       "    <tr>\n",
       "      <th>18</th>\n",
       "      <td>100128</td>\n",
       "      <td>0.142734</td>\n",
       "    </tr>\n",
       "    <tr>\n",
       "      <th>19</th>\n",
       "      <td>100141</td>\n",
       "      <td>0.025964</td>\n",
       "    </tr>\n",
       "    <tr>\n",
       "      <th>20</th>\n",
       "      <td>100150</td>\n",
       "      <td>0.038695</td>\n",
       "    </tr>\n",
       "    <tr>\n",
       "      <th>21</th>\n",
       "      <td>100168</td>\n",
       "      <td>0.024070</td>\n",
       "    </tr>\n",
       "    <tr>\n",
       "      <th>22</th>\n",
       "      <td>100169</td>\n",
       "      <td>0.089047</td>\n",
       "    </tr>\n",
       "    <tr>\n",
       "      <th>23</th>\n",
       "      <td>100170</td>\n",
       "      <td>0.134300</td>\n",
       "    </tr>\n",
       "    <tr>\n",
       "      <th>24</th>\n",
       "      <td>100171</td>\n",
       "      <td>0.041193</td>\n",
       "    </tr>\n",
       "    <tr>\n",
       "      <th>25</th>\n",
       "      <td>100172</td>\n",
       "      <td>0.125403</td>\n",
       "    </tr>\n",
       "    <tr>\n",
       "      <th>26</th>\n",
       "      <td>100184</td>\n",
       "      <td>0.077795</td>\n",
       "    </tr>\n",
       "    <tr>\n",
       "      <th>27</th>\n",
       "      <td>100187</td>\n",
       "      <td>0.069460</td>\n",
       "    </tr>\n",
       "    <tr>\n",
       "      <th>28</th>\n",
       "      <td>100212</td>\n",
       "      <td>0.045314</td>\n",
       "    </tr>\n",
       "    <tr>\n",
       "      <th>29</th>\n",
       "      <td>100222</td>\n",
       "      <td>0.062898</td>\n",
       "    </tr>\n",
       "    <tr>\n",
       "      <th>...</th>\n",
       "      <td>...</td>\n",
       "      <td>...</td>\n",
       "    </tr>\n",
       "    <tr>\n",
       "      <th>48714</th>\n",
       "      <td>455963</td>\n",
       "      <td>0.042690</td>\n",
       "    </tr>\n",
       "    <tr>\n",
       "      <th>48715</th>\n",
       "      <td>455965</td>\n",
       "      <td>0.024320</td>\n",
       "    </tr>\n",
       "    <tr>\n",
       "      <th>48716</th>\n",
       "      <td>456007</td>\n",
       "      <td>0.208359</td>\n",
       "    </tr>\n",
       "    <tr>\n",
       "      <th>48717</th>\n",
       "      <td>456008</td>\n",
       "      <td>0.030394</td>\n",
       "    </tr>\n",
       "    <tr>\n",
       "      <th>48718</th>\n",
       "      <td>456009</td>\n",
       "      <td>0.049727</td>\n",
       "    </tr>\n",
       "    <tr>\n",
       "      <th>48719</th>\n",
       "      <td>456010</td>\n",
       "      <td>0.081667</td>\n",
       "    </tr>\n",
       "    <tr>\n",
       "      <th>48720</th>\n",
       "      <td>456011</td>\n",
       "      <td>0.034433</td>\n",
       "    </tr>\n",
       "    <tr>\n",
       "      <th>48721</th>\n",
       "      <td>456013</td>\n",
       "      <td>0.246100</td>\n",
       "    </tr>\n",
       "    <tr>\n",
       "      <th>48722</th>\n",
       "      <td>456028</td>\n",
       "      <td>0.158473</td>\n",
       "    </tr>\n",
       "    <tr>\n",
       "      <th>48723</th>\n",
       "      <td>456058</td>\n",
       "      <td>0.101356</td>\n",
       "    </tr>\n",
       "    <tr>\n",
       "      <th>48724</th>\n",
       "      <td>456111</td>\n",
       "      <td>0.089752</td>\n",
       "    </tr>\n",
       "    <tr>\n",
       "      <th>48725</th>\n",
       "      <td>456114</td>\n",
       "      <td>0.087541</td>\n",
       "    </tr>\n",
       "    <tr>\n",
       "      <th>48726</th>\n",
       "      <td>456115</td>\n",
       "      <td>0.035863</td>\n",
       "    </tr>\n",
       "    <tr>\n",
       "      <th>48727</th>\n",
       "      <td>456116</td>\n",
       "      <td>0.013860</td>\n",
       "    </tr>\n",
       "    <tr>\n",
       "      <th>48728</th>\n",
       "      <td>456119</td>\n",
       "      <td>0.022623</td>\n",
       "    </tr>\n",
       "    <tr>\n",
       "      <th>48729</th>\n",
       "      <td>456120</td>\n",
       "      <td>0.114478</td>\n",
       "    </tr>\n",
       "    <tr>\n",
       "      <th>48730</th>\n",
       "      <td>456122</td>\n",
       "      <td>0.075882</td>\n",
       "    </tr>\n",
       "    <tr>\n",
       "      <th>48731</th>\n",
       "      <td>456123</td>\n",
       "      <td>0.033276</td>\n",
       "    </tr>\n",
       "    <tr>\n",
       "      <th>48732</th>\n",
       "      <td>456166</td>\n",
       "      <td>0.057587</td>\n",
       "    </tr>\n",
       "    <tr>\n",
       "      <th>48733</th>\n",
       "      <td>456167</td>\n",
       "      <td>0.035248</td>\n",
       "    </tr>\n",
       "    <tr>\n",
       "      <th>48734</th>\n",
       "      <td>456168</td>\n",
       "      <td>0.057380</td>\n",
       "    </tr>\n",
       "    <tr>\n",
       "      <th>48735</th>\n",
       "      <td>456169</td>\n",
       "      <td>0.088796</td>\n",
       "    </tr>\n",
       "    <tr>\n",
       "      <th>48736</th>\n",
       "      <td>456170</td>\n",
       "      <td>0.020642</td>\n",
       "    </tr>\n",
       "    <tr>\n",
       "      <th>48737</th>\n",
       "      <td>456189</td>\n",
       "      <td>0.098232</td>\n",
       "    </tr>\n",
       "    <tr>\n",
       "      <th>48738</th>\n",
       "      <td>456202</td>\n",
       "      <td>0.130245</td>\n",
       "    </tr>\n",
       "    <tr>\n",
       "      <th>48739</th>\n",
       "      <td>456221</td>\n",
       "      <td>0.038332</td>\n",
       "    </tr>\n",
       "    <tr>\n",
       "      <th>48740</th>\n",
       "      <td>456222</td>\n",
       "      <td>0.068170</td>\n",
       "    </tr>\n",
       "    <tr>\n",
       "      <th>48741</th>\n",
       "      <td>456223</td>\n",
       "      <td>0.023837</td>\n",
       "    </tr>\n",
       "    <tr>\n",
       "      <th>48742</th>\n",
       "      <td>456224</td>\n",
       "      <td>0.053400</td>\n",
       "    </tr>\n",
       "    <tr>\n",
       "      <th>48743</th>\n",
       "      <td>456250</td>\n",
       "      <td>0.201435</td>\n",
       "    </tr>\n",
       "  </tbody>\n",
       "</table>\n",
       "<p>48744 rows × 2 columns</p>\n",
       "</div>"
      ],
      "text/plain": [
       "       SK_ID_CURR    TARGET\n",
       "0          100001  0.062734\n",
       "1          100005  0.130615\n",
       "2          100013  0.023169\n",
       "3          100028  0.040770\n",
       "4          100038  0.138776\n",
       "5          100042  0.058923\n",
       "6          100057  0.021726\n",
       "7          100065  0.049336\n",
       "8          100066  0.024484\n",
       "9          100067  0.105692\n",
       "10         100074  0.054291\n",
       "11         100090  0.068792\n",
       "12         100091  0.196580\n",
       "13         100092  0.082412\n",
       "14         100106  0.056826\n",
       "15         100107  0.121471\n",
       "16         100109  0.095014\n",
       "17         100117  0.032549\n",
       "18         100128  0.142734\n",
       "19         100141  0.025964\n",
       "20         100150  0.038695\n",
       "21         100168  0.024070\n",
       "22         100169  0.089047\n",
       "23         100170  0.134300\n",
       "24         100171  0.041193\n",
       "25         100172  0.125403\n",
       "26         100184  0.077795\n",
       "27         100187  0.069460\n",
       "28         100212  0.045314\n",
       "29         100222  0.062898\n",
       "...           ...       ...\n",
       "48714      455963  0.042690\n",
       "48715      455965  0.024320\n",
       "48716      456007  0.208359\n",
       "48717      456008  0.030394\n",
       "48718      456009  0.049727\n",
       "48719      456010  0.081667\n",
       "48720      456011  0.034433\n",
       "48721      456013  0.246100\n",
       "48722      456028  0.158473\n",
       "48723      456058  0.101356\n",
       "48724      456111  0.089752\n",
       "48725      456114  0.087541\n",
       "48726      456115  0.035863\n",
       "48727      456116  0.013860\n",
       "48728      456119  0.022623\n",
       "48729      456120  0.114478\n",
       "48730      456122  0.075882\n",
       "48731      456123  0.033276\n",
       "48732      456166  0.057587\n",
       "48733      456167  0.035248\n",
       "48734      456168  0.057380\n",
       "48735      456169  0.088796\n",
       "48736      456170  0.020642\n",
       "48737      456189  0.098232\n",
       "48738      456202  0.130245\n",
       "48739      456221  0.038332\n",
       "48740      456222  0.068170\n",
       "48741      456223  0.023837\n",
       "48742      456224  0.053400\n",
       "48743      456250  0.201435\n",
       "\n",
       "[48744 rows x 2 columns]"
      ]
     },
     "execution_count": 49,
     "metadata": {},
     "output_type": "execute_result"
    }
   ],
   "source": []
  },
  {
   "cell_type": "code",
   "execution_count": 50,
   "metadata": {},
   "outputs": [],
   "source": [
    "pd.concat([X_test.iloc[:,0], pd.DataFrame(y_pred[:, 1])], axis=1).rename(columns={0:'TARGET'}).to_csv('submission.csv', index=False)"
   ]
  },
  {
   "cell_type": "code",
   "execution_count": 43,
   "metadata": {},
   "outputs": [
    {
     "data": {
      "text/plain": [
       "EXT_SOURCE_2                                           0.124286\n",
       "EXT_SOURCE_3                                           0.115714\n",
       "EXT_SOURCE_1                                           0.080000\n",
       "TERM                                                   0.045714\n",
       "DAYS_EMPLOYED                                          0.042857\n",
       "AVG_AMT_SHORT_install                                  0.030000\n",
       "AMT_PAYMENT_install                                    0.025714\n",
       "CNT_DRAWINGS_ATM_CURRENT_AVG_cc                        0.024286\n",
       "NAME_CONTRACT_STATUS_Refused_prev                      0.022857\n",
       "DAYS_BIRTH                                             0.021429\n",
       "CNT_INSTALMENT_MAX_pos                                 0.020000\n",
       "CODE_GENDER_M                                          0.020000\n",
       "INSTALMENTS_REMAINING_pos                              0.017143\n",
       "AMT_CREDIT_SUM_bur                                     0.017143\n",
       "AMT_DOWN_PAYMENT_prev                                  0.015714\n",
       "AMT_ANNUITY                                            0.015714\n",
       "TERM_prev                                              0.014286\n",
       "SK_DPD_DEF_AVG_pos                                     0.014286\n",
       "MONTHS_BALANCE_MIN_pos                                 0.014286\n",
       "AMT_GOODS_PRICE                                        0.012857\n",
       "NAME_EDUCATION_TYPE_Higher education                   0.011429\n",
       "CREDIT_TYPE_Microloan_bur                              0.011429\n",
       "OWN_CAR_AGE                                            0.011429\n",
       "DAYS_LATE_PAYMENT_install                              0.011429\n",
       "DAYS_CREDIT_ENDDATE_bur                                0.010000\n",
       "ANNUITY_PER_INCOME                                     0.010000\n",
       "DAYS_LAST_DUE_1ST_VERSION_prev                         0.010000\n",
       "NAME_YIELD_GROUP_high_prev                             0.010000\n",
       "AMT_CREDIT_SUM_DEBT_bur                                0.010000\n",
       "FLAG_DOCUMENT_3                                        0.008571\n",
       "                                                         ...   \n",
       "MONTHS_BALANCE_pos                                     0.002857\n",
       "NAME_CONTRACT_TYPE_Cash loans                          0.001429\n",
       "FLOORSMAX_MODE                                         0.001429\n",
       "NAME_PAYMENT_TYPE_XNA_prev                             0.001429\n",
       "CODE_GENDER_F                                          0.001429\n",
       "REGION_RATING_CLIENT_W_CITY_1                          0.001429\n",
       "PRODUCT_COMBINATION_Cash X-Sell: high_prev             0.001429\n",
       "SELLERPLACE_AREA_prev                                  0.001429\n",
       "AMT_CREDIT_prev                                        0.001429\n",
       "AMT_REQ_CREDIT_BUREAU_MON                              0.001429\n",
       "OCCUPATION_TYPE_High skill tech staff                  0.001429\n",
       "APARTMENTS_AVG                                         0.001429\n",
       "DAYS_CREDIT_UPDATE_bur                                 0.001429\n",
       "OCCUPATION_TYPE_Core staff                             0.001429\n",
       "AMT_PAYMENT_TOTAL_CURRENT_cc                           0.001429\n",
       "AMT_CREDIT_LIMIT_ACTUAL_AVG_cc                         0.001429\n",
       "AMT_RECIVABLE_cc                                       0.001429\n",
       "REG_CITY_NOT_LIVE_CITY                                 0.001429\n",
       "AMT_SHORT_PAYMENT_install                              0.001429\n",
       "DAYS_CREDIT_bur                                        0.001429\n",
       "SK_DPD_AVG_pos                                         0.001429\n",
       "FLOORSMAX_AVG                                          0.001429\n",
       "NAME_YIELD_GROUP_middle_prev                           0.001429\n",
       "LIVINGAREA_AVG                                         0.001429\n",
       "CREDIT_TYPE_Credit card_bur                            0.001429\n",
       "PRODUCT_COMBINATION_POS industry with interest_prev    0.001429\n",
       "MONTHS_BALANCE_AVG_pos                                 0.001429\n",
       "CREDIT_TYPE_Car loan_bur                               0.001429\n",
       "CNT_INSTALMENT_MIN_pos                                 0.001429\n",
       "CREDIT_ACTIVE_Closed_bur                               0.001429\n",
       "Length: 92, dtype: float32"
      ]
     },
     "execution_count": 43,
     "metadata": {},
     "output_type": "execute_result"
    }
   ],
   "source": [
    "importances = pd.Series(pipe.get_params()['xgbclassifier'].feature_importances_, index=X.columns).sort_values(ascending=False)\n",
    "importances[importances > 0]"
   ]
  },
  {
   "cell_type": "code",
   "execution_count": 44,
   "metadata": {},
   "outputs": [
    {
     "data": {
      "text/plain": [
       "{'EXT_SOURCE_3': 392.3518568728395,\n",
       " 'EXT_SOURCE_2': 331.1930061287356,\n",
       " 'DAYS_EMPLOYED': 164.27722223333336,\n",
       " 'EXT_SOURCE_1': 152.12432169642855,\n",
       " 'CREDIT_TYPE_Microloan_bur': 83.30167385,\n",
       " 'CODE_GENDER_M': 170.48031125000003,\n",
       " 'CNT_DRAWINGS_ATM_CURRENT_AVG_cc': 146.036596,\n",
       " 'CODE_GENDER_F': 74.6333008,\n",
       " 'PERCENT_DRAW_LIMIT_cc': 156.72110306,\n",
       " 'PERCENT_DRAW_ATM_LIMIT_cc': 61.27352906666667,\n",
       " 'DAYS_BIRTH': 110.69773553999998,\n",
       " 'AVG_AMT_SHORT_install': 145.12503057142857,\n",
       " 'NAME_EDUCATION_TYPE_Higher education': 272.14054112499997,\n",
       " 'DAYS_FIRST_DRAWING_prev': 170.12020096,\n",
       " 'MONTHS_BALANCE_MIN_pos': 92.60632288999999,\n",
       " 'DAYS_LAST_DUE_1ST_VERSION_prev': 104.53614151428573,\n",
       " 'AMT_PAYMENT_install': 99.16240983888889,\n",
       " 'AMT_DOWN_PAYMENT_prev': 191.2233743636364,\n",
       " 'NAME_PAYMENT_TYPE_XNA_prev': 24.7948494,\n",
       " 'CNT_INSTALMENT_MAX_pos': 100.81262353571427,\n",
       " 'AMT_SHORT_PAYMENT_install': 98.2944336,\n",
       " 'AMT_PAYMENT_TOTAL_CURRENT_cc': 90.0853271,\n",
       " 'TERM_prev': 57.096524439999996,\n",
       " 'AMT_CREDIT_SUM_bur': 47.11773681666667,\n",
       " 'TERM': 157.823133121875,\n",
       " 'NAME_CONTRACT_STATUS_Refused_prev': 105.44046672499998,\n",
       " 'CODE_REJECT_REASON_SCOFR_prev': 90.0766867,\n",
       " 'MONTHS_BALANCE_pos': 136.89648445,\n",
       " 'CNT_DRAWINGS_CURRENT_MAX_cc': 49.9219424,\n",
       " 'FLAG_DOCUMENT_3': 136.67201493333334,\n",
       " 'CNT_INSTALMENT_AVG_pos': 28.50910375,\n",
       " 'AMT_ANNUITY': 108.43677720000001,\n",
       " 'CNT_DRAWINGS_CURRENT_AVG_cc': 133.40894593333334,\n",
       " 'COUNT_pos': 127.99475395,\n",
       " 'SK_DPD_DEF_AVG_pos': 99.42305524000001,\n",
       " 'INSTALMENTS_REMAINING_pos': 58.36416341666668,\n",
       " 'AMT_GOODS_PRICE': 153.2801751222222,\n",
       " 'NAME_PRODUCT_TYPE_walk-in_prev': 164.52484915,\n",
       " 'CONSUMER': 194.43258056000002,\n",
       " 'MISSED_PAYMENTS_install': 75.18364083333334,\n",
       " 'AMT_CREDIT_MAX_OVERDUE_bur': 46.11863288,\n",
       " 'NAME_YIELD_GROUP_high_prev': 64.3715689142857,\n",
       " 'NAME_EDUCATION_TYPE_Secondary / secondary special': 131.39618953333334,\n",
       " 'DAYS_LATE_PAYMENT_install': 84.7270524,\n",
       " 'OWN_CAR_AGE': 135.17666342500002,\n",
       " 'DAYS_CREDIT_ENDDATE_bur': 88.33420939999999,\n",
       " 'PRODUCT_COMBINATION_Cash Street: high_prev': 52.3846359,\n",
       " 'AMT_CREDIT_SUM_DEBT_bur': 69.62348552857142,\n",
       " 'TOTALAREA_MODE': 165.6174545,\n",
       " 'DAYS_CREDIT_bur': 126.198044,\n",
       " 'NAME_FAMILY_STATUS_Married': 37.90451145,\n",
       " 'ANNUITY_PER_INCOME': 76.0795425142857,\n",
       " 'CREDIT_TYPE_Car loan_bur': 16.1147461,\n",
       " 'NAME_INCOME_TYPE_Working': 123.32362096666668,\n",
       " 'CNT_PAYMENT_prev': 58.85770415,\n",
       " 'PRODUCT_COMBINATION_Cash X-Sell: high_prev': 20.0961323,\n",
       " 'AMT_CREDIT': 91.9816403,\n",
       " 'MONTHS_BALANCE_AVG_pos': 23.7506943,\n",
       " 'AMT_CREDIT_SUM_OVERDUE_bur': 81.07465164999999,\n",
       " 'DAYS_CREDIT_UPDATE_bur': 20.3091698,\n",
       " 'NAME_YIELD_GROUP_middle_prev': 19.8773212,\n",
       " 'DAYS_ENDDATE_FACT_bur': 47.35970813333333,\n",
       " 'CREDIT_ACTIVE_Active_bur': 62.71183318,\n",
       " 'DEF_30_CNT_SOCIAL_CIRCLE': 104.58559166666667,\n",
       " 'CREDIT_ACTIVE_Closed_bur': 34.2738495,\n",
       " 'DAYS_ID_PUBLISH': 40.091173174999994,\n",
       " 'OCCUPATION_TYPE_High skill tech staff': 12.1865387,\n",
       " 'REGION_RATING_CLIENT_W_CITY_3': 90.14468876666666,\n",
       " 'MONTHS_BALANCE_MAX_pos': 82.66920694000001,\n",
       " 'APARTMENTS_AVG': 107.435036,\n",
       " 'NAME_CONTRACT_TYPE_Cash loans': 52.0213547,\n",
       " 'NAME_YIELD_GROUP_low_action_prev': 68.25424767499999,\n",
       " 'YEARS_BUILD_AVG': 13.71363445,\n",
       " 'AMT_INSTALMENT_install': 27.61340335,\n",
       " 'SELLERPLACE_AREA_prev': 25.1082611,\n",
       " 'CREDIT_TYPE_Credit card_bur': 20.4515533,\n",
       " 'SK_DPD_AVG_pos': 17.2570114,\n",
       " 'CNT_INSTALMENT_MIN_pos': 12.9208145,\n",
       " 'DAYS_REGISTRATION': 25.17043305,\n",
       " 'REG_CITY_NOT_LIVE_CITY': 66.6320877,\n",
       " 'FLOORSMAX_AVG': 65.0756683,\n",
       " 'CREDIT_TYPE_Mortgage_bur': 52.67728425,\n",
       " 'REGION_RATING_CLIENT_W_CITY_1': 70.9004669,\n",
       " 'AVG_DAYS_LATE_install': 27.687477100000002,\n",
       " 'AMT_RECIVABLE_cc': 67.4173813,\n",
       " 'AMT_CREDIT_LIMIT_ACTUAL_AVG_cc': 32.7999649,\n",
       " 'AMT_REQ_CREDIT_BUREAU_MON': 5.04454374,\n",
       " 'PRODUCT_COMBINATION_POS industry with interest_prev': 68.4632187,\n",
       " 'OCCUPATION_TYPE_Core staff': 67.0314713,\n",
       " 'FLOORSMAX_MODE': 66.2096024,\n",
       " 'LIVINGAREA_AVG': 15.8131771,\n",
       " 'AMT_CREDIT_prev': 18.3616409}"
      ]
     },
     "execution_count": 44,
     "metadata": {},
     "output_type": "execute_result"
    }
   ],
   "source": [
    "pipe.get_params()['xgbclassifier'].get_booster().get_score(importance_type='gain')"
   ]
  },
  {
   "cell_type": "code",
   "execution_count": 45,
   "metadata": {},
   "outputs": [
    {
     "data": {
      "text/plain": [
       "<matplotlib.axes._subplots.AxesSubplot at 0x7f9791086b70>"
      ]
     },
     "execution_count": 45,
     "metadata": {},
     "output_type": "execute_result"
    },
    {
     "data": {
      "image/png": "[encoded data removed]",
      "text/plain": [
       "<Figure size 432x288 with 1 Axes>"
      ]
     },
     "metadata": {
      "needs_background": "light"
     },
     "output_type": "display_data"
    }
   ],
   "source": [
    "plot_importance(pipe.get_params()['xgbclassifier'], max_num_features=30)"
   ]
  },
  {
   "cell_type": "code",
   "execution_count": 46,
   "metadata": {},
   "outputs": [
    {
     "data": {
      "text/plain": [
       "<matplotlib.axes._subplots.AxesSubplot at 0x7f978fe62940>"
      ]
     },
     "execution_count": 46,
     "metadata": {},
     "output_type": "execute_result"
    },
    {
     "data": {
      "image/png": "[encoded data removed]",
      "text/plain": [
       "<Figure size 432x288 with 1 Axes>"
      ]
     },
     "metadata": {
      "needs_background": "light"
     },
     "output_type": "display_data"
    }
   ],
   "source": [
    "plot_importance(pipe.get_params()['xgbclassifier'], max_num_features=30, importance_type='gain')"
   ]
  },
  {
   "cell_type": "code",
   "execution_count": null,
   "metadata": {},
   "outputs": [],
   "source": [
    "def plotROC(model, X_test, y_test):\n",
    "    probs = model.predict_proba(X_test)\n",
    "    preds = probs[:,1]\n",
    "    fpr, tpr, threshold = roc_curve(y_test, preds)\n",
    "    roc_auc = auc(fpr, tpr)\n",
    "\n",
    "    plt.title('Receiver Operating Characteristic')\n",
    "    plt.plot(fpr, tpr, 'b', label = 'AUC = %0.4f' % roc_auc)\n",
    "    plt.legend(loc = 'lower right')\n",
    "    plt.plot([0, 1], [0, 1],'r--')\n",
    "    plt.xlim([0, 1])\n",
    "    plt.ylim([0, 1])\n",
    "    plt.ylabel('True Positive Rate')\n",
    "    plt.xlabel('False Positive Rate')"
   ]
  },
  {
   "cell_type": "code",
   "execution_count": null,
   "metadata": {},
   "outputs": [],
   "source": [
    "plotROC(pipe, X[features].values, y.values)\n",
    "plt.savefig('ROC.png')"
   ]
  },
  {
   "cell_type": "code",
   "execution_count": null,
   "metadata": {},
   "outputs": [],
   "source": [
    "importances[:10]"
   ]
  },
  {
   "cell_type": "code",
   "execution_count": null,
   "metadata": {},
   "outputs": [],
   "source": [
    "importances[:10][::-1].plot.barh(edgecolor='k', grid=True)\n",
    "plt.xlabel('Feature Importance')\n",
    "plt.savefig('featureimportance.png')"
   ]
  },
  {
   "cell_type": "code",
   "execution_count": null,
   "metadata": {},
   "outputs": [],
   "source": []
  }
 ],
 "metadata": {
  "kernelspec": {
   "display_name": "Python 3",
   "language": "python",
   "name": "python3"
  },
  "language_info": {
   "codemirror_mode": {
    "name": "ipython",
    "version": 3
   },
   "file_extension": ".py",
   "mimetype": "text/x-python",
   "name": "python",
   "nbconvert_exporter": "python",
   "pygments_lexer": "ipython3",
   "version": "3.6.5"
  }
 },
 "nbformat": 4,
 "nbformat_minor": 2
}
