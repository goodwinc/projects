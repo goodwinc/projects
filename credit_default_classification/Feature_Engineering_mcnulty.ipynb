{
 "cells": [
  {
   "cell_type": "code",
   "execution_count": 10,
   "metadata": {},
   "outputs": [],
   "source": [
    "import pandas as pd\n",
    "import numpy as np\n",
    "import matplotlib.pyplot as plt\n",
    "import seaborn as sns\n",
    "\n",
    "from sklearn.linear_model import LogisticRegression, LogisticRegressionCV\n",
    "from sklearn.model_selection import train_test_split, KFold, cross_val_score, StratifiedKFold\n",
    "from sklearn.metrics import precision_score, recall_score, accuracy_score, roc_auc_score, confusion_matrix\n",
    "from sklearn.preprocessing import StandardScaler, Imputer\n",
    "from sklearn.pipeline import make_pipeline\n",
    "from sklearn.ensemble import RandomForestClassifier, GradientBoostingClassifier\n",
    "from sklearn.naive_bayes import GaussianNB\n",
    "from sklearn.impute import SimpleImputer"
   ]
  },
  {
   "cell_type": "code",
   "execution_count": 11,
   "metadata": {},
   "outputs": [],
   "source": [
    "df_train = pd.read_csv('application_train.csv')"
   ]
  },
  {
   "cell_type": "code",
   "execution_count": 12,
   "metadata": {
    "scrolled": true
   },
   "outputs": [
    {
     "data": {
      "text/html": [
       "<div>\n",
       "<style scoped>\n",
       "    .dataframe tbody tr th:only-of-type {\n",
       "        vertical-align: middle;\n",
       "    }\n",
       "\n",
       "    .dataframe tbody tr th {\n",
       "        vertical-align: top;\n",
       "    }\n",
       "\n",
       "    .dataframe thead th {\n",
       "        text-align: right;\n",
       "    }\n",
       "</style>\n",
       "<table border=\"1\" class=\"dataframe\">\n",
       "  <thead>\n",
       "    <tr style=\"text-align: right;\">\n",
       "      <th></th>\n",
       "      <th>SK_ID_CURR</th>\n",
       "      <th>TARGET</th>\n",
       "      <th>NAME_CONTRACT_TYPE</th>\n",
       "      <th>CODE_GENDER</th>\n",
       "      <th>FLAG_OWN_CAR</th>\n",
       "      <th>FLAG_OWN_REALTY</th>\n",
       "      <th>CNT_CHILDREN</th>\n",
       "      <th>AMT_INCOME_TOTAL</th>\n",
       "      <th>AMT_CREDIT</th>\n",
       "      <th>AMT_ANNUITY</th>\n",
       "      <th>...</th>\n",
       "      <th>FLAG_DOCUMENT_18</th>\n",
       "      <th>FLAG_DOCUMENT_19</th>\n",
       "      <th>FLAG_DOCUMENT_20</th>\n",
       "      <th>FLAG_DOCUMENT_21</th>\n",
       "      <th>AMT_REQ_CREDIT_BUREAU_HOUR</th>\n",
       "      <th>AMT_REQ_CREDIT_BUREAU_DAY</th>\n",
       "      <th>AMT_REQ_CREDIT_BUREAU_WEEK</th>\n",
       "      <th>AMT_REQ_CREDIT_BUREAU_MON</th>\n",
       "      <th>AMT_REQ_CREDIT_BUREAU_QRT</th>\n",
       "      <th>AMT_REQ_CREDIT_BUREAU_YEAR</th>\n",
       "    </tr>\n",
       "  </thead>\n",
       "  <tbody>\n",
       "    <tr>\n",
       "      <th>0</th>\n",
       "      <td>100002</td>\n",
       "      <td>1</td>\n",
       "      <td>Cash loans</td>\n",
       "      <td>M</td>\n",
       "      <td>N</td>\n",
       "      <td>Y</td>\n",
       "      <td>0</td>\n",
       "      <td>202500.0</td>\n",
       "      <td>406597.5</td>\n",
       "      <td>24700.5</td>\n",
       "      <td>...</td>\n",
       "      <td>0</td>\n",
       "      <td>0</td>\n",
       "      <td>0</td>\n",
       "      <td>0</td>\n",
       "      <td>0.0</td>\n",
       "      <td>0.0</td>\n",
       "      <td>0.0</td>\n",
       "      <td>0.0</td>\n",
       "      <td>0.0</td>\n",
       "      <td>1.0</td>\n",
       "    </tr>\n",
       "    <tr>\n",
       "      <th>1</th>\n",
       "      <td>100003</td>\n",
       "      <td>0</td>\n",
       "      <td>Cash loans</td>\n",
       "      <td>F</td>\n",
       "      <td>N</td>\n",
       "      <td>N</td>\n",
       "      <td>0</td>\n",
       "      <td>270000.0</td>\n",
       "      <td>1293502.5</td>\n",
       "      <td>35698.5</td>\n",
       "      <td>...</td>\n",
       "      <td>0</td>\n",
       "      <td>0</td>\n",
       "      <td>0</td>\n",
       "      <td>0</td>\n",
       "      <td>0.0</td>\n",
       "      <td>0.0</td>\n",
       "      <td>0.0</td>\n",
       "      <td>0.0</td>\n",
       "      <td>0.0</td>\n",
       "      <td>0.0</td>\n",
       "    </tr>\n",
       "    <tr>\n",
       "      <th>2</th>\n",
       "      <td>100004</td>\n",
       "      <td>0</td>\n",
       "      <td>Revolving loans</td>\n",
       "      <td>M</td>\n",
       "      <td>Y</td>\n",
       "      <td>Y</td>\n",
       "      <td>0</td>\n",
       "      <td>67500.0</td>\n",
       "      <td>135000.0</td>\n",
       "      <td>6750.0</td>\n",
       "      <td>...</td>\n",
       "      <td>0</td>\n",
       "      <td>0</td>\n",
       "      <td>0</td>\n",
       "      <td>0</td>\n",
       "      <td>0.0</td>\n",
       "      <td>0.0</td>\n",
       "      <td>0.0</td>\n",
       "      <td>0.0</td>\n",
       "      <td>0.0</td>\n",
       "      <td>0.0</td>\n",
       "    </tr>\n",
       "    <tr>\n",
       "      <th>3</th>\n",
       "      <td>100006</td>\n",
       "      <td>0</td>\n",
       "      <td>Cash loans</td>\n",
       "      <td>F</td>\n",
       "      <td>N</td>\n",
       "      <td>Y</td>\n",
       "      <td>0</td>\n",
       "      <td>135000.0</td>\n",
       "      <td>312682.5</td>\n",
       "      <td>29686.5</td>\n",
       "      <td>...</td>\n",
       "      <td>0</td>\n",
       "      <td>0</td>\n",
       "      <td>0</td>\n",
       "      <td>0</td>\n",
       "      <td>NaN</td>\n",
       "      <td>NaN</td>\n",
       "      <td>NaN</td>\n",
       "      <td>NaN</td>\n",
       "      <td>NaN</td>\n",
       "      <td>NaN</td>\n",
       "    </tr>\n",
       "    <tr>\n",
       "      <th>4</th>\n",
       "      <td>100007</td>\n",
       "      <td>0</td>\n",
       "      <td>Cash loans</td>\n",
       "      <td>M</td>\n",
       "      <td>N</td>\n",
       "      <td>Y</td>\n",
       "      <td>0</td>\n",
       "      <td>121500.0</td>\n",
       "      <td>513000.0</td>\n",
       "      <td>21865.5</td>\n",
       "      <td>...</td>\n",
       "      <td>0</td>\n",
       "      <td>0</td>\n",
       "      <td>0</td>\n",
       "      <td>0</td>\n",
       "      <td>0.0</td>\n",
       "      <td>0.0</td>\n",
       "      <td>0.0</td>\n",
       "      <td>0.0</td>\n",
       "      <td>0.0</td>\n",
       "      <td>0.0</td>\n",
       "    </tr>\n",
       "  </tbody>\n",
       "</table>\n",
       "<p>5 rows × 122 columns</p>\n",
       "</div>"
      ],
      "text/plain": [
       "   SK_ID_CURR  TARGET NAME_CONTRACT_TYPE CODE_GENDER FLAG_OWN_CAR  \\\n",
       "0      100002       1         Cash loans           M            N   \n",
       "1      100003       0         Cash loans           F            N   \n",
       "2      100004       0    Revolving loans           M            Y   \n",
       "3      100006       0         Cash loans           F            N   \n",
       "4      100007       0         Cash loans           M            N   \n",
       "\n",
       "  FLAG_OWN_REALTY  CNT_CHILDREN  AMT_INCOME_TOTAL  AMT_CREDIT  AMT_ANNUITY  \\\n",
       "0               Y             0          202500.0    406597.5      24700.5   \n",
       "1               N             0          270000.0   1293502.5      35698.5   \n",
       "2               Y             0           67500.0    135000.0       6750.0   \n",
       "3               Y             0          135000.0    312682.5      29686.5   \n",
       "4               Y             0          121500.0    513000.0      21865.5   \n",
       "\n",
       "              ...              FLAG_DOCUMENT_18 FLAG_DOCUMENT_19  \\\n",
       "0             ...                             0                0   \n",
       "1             ...                             0                0   \n",
       "2             ...                             0                0   \n",
       "3             ...                             0                0   \n",
       "4             ...                             0                0   \n",
       "\n",
       "  FLAG_DOCUMENT_20 FLAG_DOCUMENT_21 AMT_REQ_CREDIT_BUREAU_HOUR  \\\n",
       "0                0                0                        0.0   \n",
       "1                0                0                        0.0   \n",
       "2                0                0                        0.0   \n",
       "3                0                0                        NaN   \n",
       "4                0                0                        0.0   \n",
       "\n",
       "  AMT_REQ_CREDIT_BUREAU_DAY  AMT_REQ_CREDIT_BUREAU_WEEK  \\\n",
       "0                       0.0                         0.0   \n",
       "1                       0.0                         0.0   \n",
       "2                       0.0                         0.0   \n",
       "3                       NaN                         NaN   \n",
       "4                       0.0                         0.0   \n",
       "\n",
       "   AMT_REQ_CREDIT_BUREAU_MON  AMT_REQ_CREDIT_BUREAU_QRT  \\\n",
       "0                        0.0                        0.0   \n",
       "1                        0.0                        0.0   \n",
       "2                        0.0                        0.0   \n",
       "3                        NaN                        NaN   \n",
       "4                        0.0                        0.0   \n",
       "\n",
       "   AMT_REQ_CREDIT_BUREAU_YEAR  \n",
       "0                         1.0  \n",
       "1                         0.0  \n",
       "2                         0.0  \n",
       "3                         NaN  \n",
       "4                         0.0  \n",
       "\n",
       "[5 rows x 122 columns]"
      ]
     },
     "execution_count": 12,
     "metadata": {},
     "output_type": "execute_result"
    }
   ],
   "source": [
    "df_train.head()"
   ]
  },
  {
   "cell_type": "code",
   "execution_count": 13,
   "metadata": {},
   "outputs": [],
   "source": [
    "df_test = pd.read_csv('application_test.csv')"
   ]
  },
  {
   "cell_type": "markdown",
   "metadata": {},
   "source": [
    "### Run this cell for mem checks"
   ]
  },
  {
   "cell_type": "code",
   "execution_count": 14,
   "metadata": {},
   "outputs": [
    {
     "data": {
      "text/plain": [
       "[('df_train', 570142137),\n",
       " ('X', 565221961),\n",
       " ('df_test', 90020943),\n",
       " ('X_test', 89630991),\n",
       " ('y', 2460192),\n",
       " ('GaussianNB', 1056),\n",
       " ('GradientBoostingClassifier', 1056),\n",
       " ('Imputer', 1056),\n",
       " ('KFold', 1056),\n",
       " ('LogisticRegression', 1056),\n",
       " ('LogisticRegressionCV', 1056),\n",
       " ('RandomForestClassifier', 1056),\n",
       " ('SimpleImputer', 1056),\n",
       " ('StandardScaler', 1056),\n",
       " ('StratifiedKFold', 1056),\n",
       " ('accuracy_score', 136),\n",
       " ('confusion_matrix', 136),\n",
       " ('cross_val_score', 136),\n",
       " ('make_pipeline', 136),\n",
       " ('precision_score', 136),\n",
       " ('recall_score', 136),\n",
       " ('roc_auc_score', 136),\n",
       " ('train_test_split', 136),\n",
       " ('np', 80),\n",
       " ('pd', 80),\n",
       " ('plt', 80),\n",
       " ('sns', 80)]"
      ]
     },
     "execution_count": 14,
     "metadata": {},
     "output_type": "execute_result"
    }
   ],
   "source": [
    "import sys\n",
    "\n",
    "# These are the usual ipython objects, including this one you are creating\n",
    "ipython_vars = ['In', 'Out', 'exit', 'quit', 'get_ipython', 'ipython_vars']\n",
    "\n",
    "# Get a sorted list of the objects and their sizes\n",
    "sorted([(x, sys.getsizeof(globals().get(x))) for x in dir() if not x.startswith('_') and x not in sys.modules and x not in ipython_vars], key=lambda x: x[1], reverse=True)"
   ]
  },
  {
   "cell_type": "code",
   "execution_count": 15,
   "metadata": {},
   "outputs": [],
   "source": [
    "X = df_train.drop(['TARGET', 'SK_ID_CURR'], axis=1)\n",
    "y = df_train['TARGET']"
   ]
  },
  {
   "cell_type": "code",
   "execution_count": 16,
   "metadata": {},
   "outputs": [],
   "source": [
    "X_test = df_test.drop(['SK_ID_CURR'], axis=1)"
   ]
  },
  {
   "cell_type": "markdown",
   "metadata": {},
   "source": [
    "### Find columns with nulls"
   ]
  },
  {
   "cell_type": "code",
   "execution_count": 17,
   "metadata": {},
   "outputs": [
    {
     "data": {
      "text/plain": [
       "Index(['AMT_ANNUITY', 'AMT_GOODS_PRICE', 'NAME_TYPE_SUITE', 'OWN_CAR_AGE',\n",
       "       'OCCUPATION_TYPE', 'CNT_FAM_MEMBERS', 'EXT_SOURCE_1', 'EXT_SOURCE_2',\n",
       "       'EXT_SOURCE_3', 'APARTMENTS_AVG', 'BASEMENTAREA_AVG',\n",
       "       'YEARS_BEGINEXPLUATATION_AVG', 'YEARS_BUILD_AVG', 'COMMONAREA_AVG',\n",
       "       'ELEVATORS_AVG', 'ENTRANCES_AVG', 'FLOORSMAX_AVG', 'FLOORSMIN_AVG',\n",
       "       'LANDAREA_AVG', 'LIVINGAPARTMENTS_AVG', 'LIVINGAREA_AVG',\n",
       "       'NONLIVINGAPARTMENTS_AVG', 'NONLIVINGAREA_AVG', 'APARTMENTS_MODE',\n",
       "       'BASEMENTAREA_MODE', 'YEARS_BEGINEXPLUATATION_MODE', 'YEARS_BUILD_MODE',\n",
       "       'COMMONAREA_MODE', 'ELEVATORS_MODE', 'ENTRANCES_MODE', 'FLOORSMAX_MODE',\n",
       "       'FLOORSMIN_MODE', 'LANDAREA_MODE', 'LIVINGAPARTMENTS_MODE',\n",
       "       'LIVINGAREA_MODE', 'NONLIVINGAPARTMENTS_MODE', 'NONLIVINGAREA_MODE',\n",
       "       'APARTMENTS_MEDI', 'BASEMENTAREA_MEDI', 'YEARS_BEGINEXPLUATATION_MEDI',\n",
       "       'YEARS_BUILD_MEDI', 'COMMONAREA_MEDI', 'ELEVATORS_MEDI',\n",
       "       'ENTRANCES_MEDI', 'FLOORSMAX_MEDI', 'FLOORSMIN_MEDI', 'LANDAREA_MEDI',\n",
       "       'LIVINGAPARTMENTS_MEDI', 'LIVINGAREA_MEDI', 'NONLIVINGAPARTMENTS_MEDI',\n",
       "       'NONLIVINGAREA_MEDI', 'FONDKAPREMONT_MODE', 'HOUSETYPE_MODE',\n",
       "       'TOTALAREA_MODE', 'WALLSMATERIAL_MODE', 'EMERGENCYSTATE_MODE',\n",
       "       'OBS_30_CNT_SOCIAL_CIRCLE', 'DEF_30_CNT_SOCIAL_CIRCLE',\n",
       "       'OBS_60_CNT_SOCIAL_CIRCLE', 'DEF_60_CNT_SOCIAL_CIRCLE',\n",
       "       'DAYS_LAST_PHONE_CHANGE', 'AMT_REQ_CREDIT_BUREAU_HOUR',\n",
       "       'AMT_REQ_CREDIT_BUREAU_DAY', 'AMT_REQ_CREDIT_BUREAU_WEEK',\n",
       "       'AMT_REQ_CREDIT_BUREAU_MON', 'AMT_REQ_CREDIT_BUREAU_QRT',\n",
       "       'AMT_REQ_CREDIT_BUREAU_YEAR'],\n",
       "      dtype='object')"
      ]
     },
     "execution_count": 17,
     "metadata": {},
     "output_type": "execute_result"
    }
   ],
   "source": [
    "columns_null = X.columns[X.count() != 307511]\n",
    "columns_null"
   ]
  },
  {
   "cell_type": "code",
   "execution_count": 18,
   "metadata": {},
   "outputs": [
    {
     "data": {
      "text/plain": [
       "AMT_ANNUITY                     0.999961\n",
       "AMT_GOODS_PRICE                 0.999096\n",
       "NAME_TYPE_SUITE                 0.995799\n",
       "OWN_CAR_AGE                     0.340092\n",
       "OCCUPATION_TYPE                 0.686545\n",
       "CNT_FAM_MEMBERS                 0.999993\n",
       "EXT_SOURCE_1                    0.436189\n",
       "EXT_SOURCE_2                    0.997854\n",
       "EXT_SOURCE_3                    0.801747\n",
       "APARTMENTS_AVG                  0.492503\n",
       "BASEMENTAREA_AVG                0.414840\n",
       "YEARS_BEGINEXPLUATATION_AVG     0.512190\n",
       "YEARS_BUILD_AVG                 0.335022\n",
       "COMMONAREA_AVG                  0.301277\n",
       "ELEVATORS_AVG                   0.467040\n",
       "ENTRANCES_AVG                   0.496512\n",
       "FLOORSMAX_AVG                   0.502392\n",
       "FLOORSMIN_AVG                   0.321514\n",
       "LANDAREA_AVG                    0.406233\n",
       "LIVINGAPARTMENTS_AVG            0.316450\n",
       "LIVINGAREA_AVG                  0.498067\n",
       "NONLIVINGAPARTMENTS_AVG         0.305670\n",
       "NONLIVINGAREA_AVG               0.448208\n",
       "APARTMENTS_MODE                 0.492503\n",
       "BASEMENTAREA_MODE               0.414840\n",
       "YEARS_BEGINEXPLUATATION_MODE    0.512190\n",
       "YEARS_BUILD_MODE                0.335022\n",
       "COMMONAREA_MODE                 0.301277\n",
       "ELEVATORS_MODE                  0.467040\n",
       "ENTRANCES_MODE                  0.496512\n",
       "                                  ...   \n",
       "APARTMENTS_MEDI                 0.492503\n",
       "BASEMENTAREA_MEDI               0.414840\n",
       "YEARS_BEGINEXPLUATATION_MEDI    0.512190\n",
       "YEARS_BUILD_MEDI                0.335022\n",
       "COMMONAREA_MEDI                 0.301277\n",
       "ELEVATORS_MEDI                  0.467040\n",
       "ENTRANCES_MEDI                  0.496512\n",
       "FLOORSMAX_MEDI                  0.502392\n",
       "FLOORSMIN_MEDI                  0.321514\n",
       "LANDAREA_MEDI                   0.406233\n",
       "LIVINGAPARTMENTS_MEDI           0.316450\n",
       "LIVINGAREA_MEDI                 0.498067\n",
       "NONLIVINGAPARTMENTS_MEDI        0.305670\n",
       "NONLIVINGAREA_MEDI              0.448208\n",
       "FONDKAPREMONT_MODE              0.316138\n",
       "HOUSETYPE_MODE                  0.498239\n",
       "TOTALAREA_MODE                  0.517315\n",
       "WALLSMATERIAL_MODE              0.491592\n",
       "EMERGENCYSTATE_MODE             0.526017\n",
       "OBS_30_CNT_SOCIAL_CIRCLE        0.996680\n",
       "DEF_30_CNT_SOCIAL_CIRCLE        0.996680\n",
       "OBS_60_CNT_SOCIAL_CIRCLE        0.996680\n",
       "DEF_60_CNT_SOCIAL_CIRCLE        0.996680\n",
       "DAYS_LAST_PHONE_CHANGE          0.999997\n",
       "AMT_REQ_CREDIT_BUREAU_HOUR      0.864984\n",
       "AMT_REQ_CREDIT_BUREAU_DAY       0.864984\n",
       "AMT_REQ_CREDIT_BUREAU_WEEK      0.864984\n",
       "AMT_REQ_CREDIT_BUREAU_MON       0.864984\n",
       "AMT_REQ_CREDIT_BUREAU_QRT       0.864984\n",
       "AMT_REQ_CREDIT_BUREAU_YEAR      0.864984\n",
       "Length: 67, dtype: float64"
      ]
     },
     "execution_count": 18,
     "metadata": {},
     "output_type": "execute_result"
    }
   ],
   "source": [
    "X[columns_null].count()/307511"
   ]
  },
  {
   "cell_type": "markdown",
   "metadata": {},
   "source": [
    "### Inspect number of values in each categorical col"
   ]
  },
  {
   "cell_type": "markdown",
   "metadata": {},
   "source": [
    "Some categorical columns are incorrectly coded as int64.  Convert them to objects."
   ]
  },
  {
   "cell_type": "code",
   "execution_count": 19,
   "metadata": {},
   "outputs": [
    {
     "data": {
      "text/plain": [
       "1    307510\n",
       "0         1\n",
       "Name: FLAG_MOBIL, dtype: int64"
      ]
     },
     "execution_count": 19,
     "metadata": {},
     "output_type": "execute_result"
    }
   ],
   "source": [
    "df_train.FLAG_MOBIL.value_counts()"
   ]
  },
  {
   "cell_type": "code",
   "execution_count": 20,
   "metadata": {},
   "outputs": [
    {
     "data": {
      "text/plain": [
       "0.08072881945686496"
      ]
     },
     "execution_count": 20,
     "metadata": {},
     "output_type": "execute_result"
    }
   ],
   "source": [
    "y.mean()"
   ]
  },
  {
   "cell_type": "code",
   "execution_count": 21,
   "metadata": {},
   "outputs": [
    {
     "name": "stderr",
     "output_type": "stream",
     "text": [
      "/home/ubuntu/anaconda3/lib/python3.7/site-packages/ipykernel_launcher.py:6: FutureWarning: 'argmin' is deprecated, use 'idxmin' instead. The behavior of 'argmin'\n",
      "will be corrected to return the positional minimum in the future.\n",
      "Use 'series.values.argmin' to get the position of the minimum now.\n",
      "  \n"
     ]
    },
    {
     "name": "stdout",
     "output_type": "stream",
     "text": [
      "FLAG_MOBIL 1 0.0\n",
      "FLAG_DOCUMENT_2 13 0.3076923076923077\n",
      "FLAG_DOCUMENT_4 25 0.0\n",
      "FLAG_DOCUMENT_7 59 0.05084745762711865\n",
      "FLAG_DOCUMENT_10 7 0.0\n",
      "FLAG_DOCUMENT_12 2 0.0\n",
      "FLAG_DOCUMENT_17 82 0.024390243902439025\n",
      "FLAG_DOCUMENT_19 183 0.06557377049180328\n",
      "FLAG_DOCUMENT_20 156 0.08333333333333333\n",
      "FLAG_DOCUMENT_21 103 0.13592233009708737\n"
     ]
    }
   ],
   "source": [
    "#examine very lopsided cols to see if we can just remove them\n",
    "import re\n",
    "for col in df_train.columns:\n",
    "    if re.search(r'FLAG', col):\n",
    "        if df_train[col].value_counts().min()/df_train[col].value_counts().max() < .001:\n",
    "            min_msk = df_train[col] == df_train[col].value_counts().argmin()\n",
    "            print(col, df_train[col].value_counts().min(), y[min_msk].mean())"
   ]
  },
  {
   "cell_type": "markdown",
   "metadata": {},
   "source": [
    "flag doc 2, 21, 82, and 4(maybe) look important"
   ]
  },
  {
   "cell_type": "code",
   "execution_count": 22,
   "metadata": {},
   "outputs": [],
   "source": [
    "#drop columns that don't have much info\n",
    "X.drop(columns=['FLAG_MOBIL', 'FLAG_DOCUMENT_10', 'FLAG_DOCUMENT_12'], inplace=True, errors='ignore')\n",
    "X_test.drop(columns=['FLAG_MOBIL', 'FLAG_DOCUMENT_10', 'FLAG_DOCUMENT_12'], inplace=True, errors='ignore')"
   ]
  },
  {
   "cell_type": "markdown",
   "metadata": {},
   "source": [
    "### Visualize"
   ]
  },
  {
   "cell_type": "code",
   "execution_count": 46,
   "metadata": {},
   "outputs": [],
   "source": [
    "# for col in df_train.columns[2:]:\n",
    "#     try:\n",
    "#         g = sns.FacetGrid(df_train[[col, 'TARGET']], hue='TARGET')\n",
    "#         g = g.map(plt.hist, col)\n",
    "#     except:\n",
    "#         pass"
   ]
  },
  {
   "cell_type": "code",
   "execution_count": 47,
   "metadata": {},
   "outputs": [
    {
     "data": {
      "text/plain": [
       "0.05399646043269404"
      ]
     },
     "execution_count": 47,
     "metadata": {},
     "output_type": "execute_result"
    }
   ],
   "source": [
    "y[X.DAYS_EMPLOYED > 0].mean()"
   ]
  },
  {
   "cell_type": "markdown",
   "metadata": {},
   "source": [
    "seems like it has an effect on target, so let's replace this with NaN and create new col that flags any weird number in this col"
   ]
  },
  {
   "cell_type": "code",
   "execution_count": 48,
   "metadata": {},
   "outputs": [],
   "source": [
    "X['DAYS_EMPLOYED_ABNORMAL'] = (X['DAYS_EMPLOYED'] > 0).astype(int)\n",
    "X_test['DAYS_EMPLOYED_ABNORMAL'] = (X_test['DAYS_EMPLOYED'] > 0).astype(int)"
   ]
  },
  {
   "cell_type": "code",
   "execution_count": 49,
   "metadata": {},
   "outputs": [
    {
     "name": "stderr",
     "output_type": "stream",
     "text": [
      "/home/ubuntu/anaconda3/lib/python3.7/site-packages/ipykernel_launcher.py:1: SettingWithCopyWarning: \n",
      "A value is trying to be set on a copy of a slice from a DataFrame\n",
      "\n",
      "See the caveats in the documentation: http://pandas.pydata.org/pandas-docs/stable/indexing.html#indexing-view-versus-copy\n",
      "  \"\"\"Entry point for launching an IPython kernel.\n",
      "/home/ubuntu/anaconda3/lib/python3.7/site-packages/ipykernel_launcher.py:2: SettingWithCopyWarning: \n",
      "A value is trying to be set on a copy of a slice from a DataFrame\n",
      "\n",
      "See the caveats in the documentation: http://pandas.pydata.org/pandas-docs/stable/indexing.html#indexing-view-versus-copy\n",
      "  \n"
     ]
    }
   ],
   "source": [
    "X['DAYS_EMPLOYED'][X['DAYS_EMPLOYED'] > 0] = np.nan\n",
    "X_test['DAYS_EMPLOYED'][X_test['DAYS_EMPLOYED'] > 0] = np.nan"
   ]
  },
  {
   "cell_type": "code",
   "execution_count": 50,
   "metadata": {},
   "outputs": [
    {
     "data": {
      "text/plain": [
       "(55374, 9274)"
      ]
     },
     "execution_count": 50,
     "metadata": {},
     "output_type": "execute_result"
    }
   ],
   "source": [
    "X['DAYS_EMPLOYED'].isnull().sum(), X_test['DAYS_EMPLOYED'].isnull().sum()"
   ]
  },
  {
   "cell_type": "markdown",
   "metadata": {},
   "source": [
    "### Imputation"
   ]
  },
  {
   "cell_type": "code",
   "execution_count": 51,
   "metadata": {},
   "outputs": [],
   "source": [
    "# X_imputed = X.fillna(X.mean(numeric_only=True))"
   ]
  },
  {
   "cell_type": "code",
   "execution_count": 52,
   "metadata": {},
   "outputs": [],
   "source": [
    "# X_imputed = X_imputed.fillna(X_imputed.mode().iloc[0])"
   ]
  },
  {
   "cell_type": "code",
   "execution_count": 53,
   "metadata": {},
   "outputs": [],
   "source": [
    "#check to see if any null values in entire DF\n",
    "# X_imputed.isnull().sum().sum()"
   ]
  },
  {
   "cell_type": "code",
   "execution_count": 54,
   "metadata": {},
   "outputs": [],
   "source": [
    "# X_imputed['REGION_RATING_CLIENT'] = X_imputed['REGION_RATING_CLIENT'].astype(object)\n",
    "# X_imputed['REGION_RATING_CLIENT_W_CITY'] = X_imputed['REGION_RATING_CLIENT_W_CITY'].astype(object)"
   ]
  },
  {
   "cell_type": "code",
   "execution_count": 55,
   "metadata": {},
   "outputs": [],
   "source": [
    "# X_imputed = pd.get_dummies(X_imputed)"
   ]
  },
  {
   "cell_type": "code",
   "execution_count": 56,
   "metadata": {},
   "outputs": [],
   "source": [
    "X['REGION_RATING_CLIENT'] = X['REGION_RATING_CLIENT'].astype(object)\n",
    "X['REGION_RATING_CLIENT_W_CITY'] = X['REGION_RATING_CLIENT_W_CITY'].astype(object)\n",
    "X_test['REGION_RATING_CLIENT'] = X_test['REGION_RATING_CLIENT'].astype(object)\n",
    "X_test['REGION_RATING_CLIENT_W_CITY'] = X_test['REGION_RATING_CLIENT_W_CITY'].astype(object)"
   ]
  },
  {
   "cell_type": "code",
   "execution_count": 57,
   "metadata": {},
   "outputs": [],
   "source": [
    "X = pd.get_dummies(X)\n",
    "X_test = pd.get_dummies(X_test)"
   ]
  },
  {
   "cell_type": "markdown",
   "metadata": {},
   "source": [
    "### Feature Engineering"
   ]
  },
  {
   "cell_type": "code",
   "execution_count": 103,
   "metadata": {},
   "outputs": [],
   "source": [
    "X['CONSUMER'] = (X['AMT_CREDIT'] == X['AMT_GOODS_PRICE']).astype(int)\n",
    "X_test['CONSUMER'] = (X_test['AMT_CREDIT'] == X_test['AMT_GOODS_PRICE']).astype(int)"
   ]
  },
  {
   "cell_type": "code",
   "execution_count": 108,
   "metadata": {},
   "outputs": [],
   "source": [
    "X['TERM'] = X['AMT_CREDIT'] / X['AMT_ANNUITY']\n",
    "X_test['TERM'] = X_test['AMT_CREDIT'] / X_test['AMT_ANNUITY']"
   ]
  },
  {
   "cell_type": "code",
   "execution_count": 109,
   "metadata": {},
   "outputs": [],
   "source": [
    "X['ANNUITY_PER_INCOME'] = X['AMT_ANNUITY'] / X['AMT_INCOME_TOTAL']\n",
    "X_test['ANNUITY_PER_INCOME'] = X_test['AMT_ANNUITY'] / X_test['AMT_INCOME_TOTAL']"
   ]
  },
  {
   "cell_type": "code",
   "execution_count": 110,
   "metadata": {},
   "outputs": [
    {
     "data": {
      "text/plain": [
       "EXT_SOURCE_3                                        -0.178919\n",
       "EXT_SOURCE_2                                        -0.160472\n",
       "EXT_SOURCE_1                                        -0.155317\n",
       "NAME_EDUCATION_TYPE_Higher education                -0.056593\n",
       "CODE_GENDER_F                                       -0.054704\n",
       "NAME_INCOME_TYPE_Pensioner                          -0.046209\n",
       "DAYS_EMPLOYED_ABNORMAL                              -0.045987\n",
       "ORGANIZATION_TYPE_XNA                               -0.045987\n",
       "FLOORSMAX_AVG                                       -0.044003\n",
       "FLOORSMAX_MEDI                                      -0.043768\n",
       "FLOORSMAX_MODE                                      -0.043226\n",
       "EMERGENCYSTATE_MODE_No                              -0.042201\n",
       "REGION_RATING_CLIENT_W_CITY_1                       -0.041945\n",
       "REGION_RATING_CLIENT_1                              -0.040830\n",
       "HOUSETYPE_MODE_block of flats                       -0.040594\n",
       "AMT_GOODS_PRICE                                     -0.039645\n",
       "REGION_POPULATION_RELATIVE                          -0.037227\n",
       "CONSUMER                                            -0.035761\n",
       "ELEVATORS_AVG                                       -0.034199\n",
       "ELEVATORS_MEDI                                      -0.033863\n",
       "FLOORSMIN_AVG                                       -0.033614\n",
       "FLOORSMIN_MEDI                                      -0.033394\n",
       "WALLSMATERIAL_MODE_Panel                            -0.033119\n",
       "LIVINGAREA_AVG                                      -0.032997\n",
       "LIVINGAREA_MEDI                                     -0.032739\n",
       "FLOORSMIN_MODE                                      -0.032698\n",
       "TOTALAREA_MODE                                      -0.032596\n",
       "ELEVATORS_MODE                                      -0.032131\n",
       "TERM                                                -0.032102\n",
       "NAME_CONTRACT_TYPE_Revolving loans                  -0.030896\n",
       "                                                       ...   \n",
       "FLAG_OWN_CAR_N                                       0.021851\n",
       "NAME_FAMILY_STATUS_Civil marriage                    0.022496\n",
       "ORGANIZATION_TYPE_Business Entity Type 3             0.023993\n",
       "NAME_FAMILY_STATUS_Single / not married              0.026518\n",
       "OCCUPATION_TYPE_Low-skill Laborers                   0.027591\n",
       "FLAG_WORK_PHONE                                      0.028524\n",
       "ORGANIZATION_TYPE_Self-employed                      0.029139\n",
       "NAME_HOUSING_TYPE_With parents                       0.029966\n",
       "OCCUPATION_TYPE_Drivers                              0.030303\n",
       "NAME_CONTRACT_TYPE_Cash loans                        0.030896\n",
       "DEF_60_CNT_SOCIAL_CIRCLE                             0.031276\n",
       "DEF_30_CNT_SOCIAL_CIRCLE                             0.032248\n",
       "LIVE_CITY_NOT_WORK_CITY                              0.032518\n",
       "OWN_CAR_AGE                                          0.037612\n",
       "DAYS_REGISTRATION                                    0.041975\n",
       "OCCUPATION_TYPE_Laborers                             0.043019\n",
       "FLAG_DOCUMENT_3                                      0.044346\n",
       "REG_CITY_NOT_LIVE_CITY                               0.044395\n",
       "FLAG_EMP_PHONE                                       0.045982\n",
       "REGION_RATING_CLIENT_3                               0.048029\n",
       "NAME_EDUCATION_TYPE_Secondary / secondary special    0.049824\n",
       "REGION_RATING_CLIENT_W_CITY_3                        0.049847\n",
       "REG_CITY_NOT_WORK_CITY                               0.050994\n",
       "DAYS_ID_PUBLISH                                      0.051457\n",
       "CODE_GENDER_M                                        0.054713\n",
       "DAYS_LAST_PHONE_CHANGE                               0.055218\n",
       "NAME_INCOME_TYPE_Working                             0.057481\n",
       "DAYS_EMPLOYED                                        0.074958\n",
       "DAYS_BIRTH                                           0.078239\n",
       "TARGET                                               1.000000\n",
       "Name: TARGET, Length: 250, dtype: float64"
      ]
     },
     "execution_count": 110,
     "metadata": {},
     "output_type": "execute_result"
    }
   ],
   "source": [
    "corrs = pd.concat([X, y],axis=1).corr()['TARGET'].sort_values()\n",
    "corrs"
   ]
  },
  {
   "cell_type": "code",
   "execution_count": 111,
   "metadata": {},
   "outputs": [],
   "source": [
    "corrs = abs(corrs).sort_values(ascending=False)\n",
    "corrs = corrs.drop(index='TARGET', errors='ignore')"
   ]
  },
  {
   "cell_type": "code",
   "execution_count": 27,
   "metadata": {},
   "outputs": [],
   "source": [
    "# X, X_test = X.align(X_test, axis=1, join='inner')"
   ]
  },
  {
   "cell_type": "code",
   "execution_count": 28,
   "metadata": {},
   "outputs": [
    {
     "data": {
      "text/plain": [
       "((307511, 243), (48744, 243))"
      ]
     },
     "execution_count": 28,
     "metadata": {},
     "output_type": "execute_result"
    }
   ],
   "source": [
    "# X.shape, X_test.shape"
   ]
  }
 ],
 "metadata": {
  "kernelspec": {
   "display_name": "Python 3",
   "language": "python",
   "name": "python3"
  },
  "language_info": {
   "codemirror_mode": {
    "name": "ipython",
    "version": 3
   },
   "file_extension": ".py",
   "mimetype": "text/x-python",
   "name": "python",
   "nbconvert_exporter": "python",
   "pygments_lexer": "ipython3",
   "version": "3.7.0"
  }
 },
 "nbformat": 4,
 "nbformat_minor": 2
}
